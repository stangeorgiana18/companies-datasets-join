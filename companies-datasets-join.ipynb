{
 "cells": [
  {
   "cell_type": "markdown",
   "id": "a0710084",
   "metadata": {
    "papermill": {
     "duration": 0.025589,
     "end_time": "2024-04-15T14:33:02.231641",
     "exception": false,
     "start_time": "2024-04-15T14:33:02.206052",
     "status": "completed"
    },
    "tags": []
   },
   "source": [
    "# **COMPANIES DATASETS JOIN**"
   ]
  },
  {
   "cell_type": "markdown",
   "id": "189237f4",
   "metadata": {
    "papermill": {
     "duration": 0.025722,
     "end_time": "2024-04-15T14:33:02.282678",
     "exception": false,
     "start_time": "2024-04-15T14:33:02.256956",
     "status": "completed"
    },
    "tags": []
   },
   "source": [
    "> Each dataset contains the information regarding the same companies from 3 different sources. \n",
    "> The point of this project is to create a 4th dataset, containing the other 3, and by joining them, better accuracy on the common columns is desired. \n",
    "> The columns that interest us the most are Category, Address (country, region, city, address), Phone, Company names. These columns will be mapped for the new dataset created."
   ]
  },
  {
   "cell_type": "markdown",
   "id": "548388c9",
   "metadata": {
    "papermill": {
     "duration": 0.024638,
     "end_time": "2024-04-15T14:33:02.332261",
     "exception": false,
     "start_time": "2024-04-15T14:33:02.307623",
     "status": "completed"
    },
    "tags": []
   },
   "source": [
    "# Contents\n",
    "\n",
    "* [Visually explore the data](#1)\n",
    "* [Missing data](#2)\n",
    "* [Keep only the most relevant columns and rename them across all the datasets / create filtered datasets](#3)\n",
    "* [Duplicated rows in each dataset](#4)\n",
    "* [Unique values for country](#5)\n",
    "* [Clean the country column in Company dataset since some values are numerical](#6)\n",
    "* [Unique values for country code to check the format (2 or 3 letters)](#7)\n",
    "* [Reformat phone numbers in Company dataset](#8)\n",
    "* [Dictionary with phone prefix as key and country code and country name as values](#9)\n",
    "* [Missing name column in Google dataset](#10)\n",
    "* [Delete rows where all other columns are empty except for name and category across all datasets](#11)\n",
    "* [Add '+' at the beginning of the phone number and set it as NaN if it's not valid](#12)\n",
    "* [Fill in the country/country code based on phone number if provided](#13)\n",
    "* [Check if there are still rows where phone, name, category and country are not bot provided and remove them](#14)\n",
    "* [Merge the datasets](#15)\n",
    "\n"
   ]
  },
  {
   "cell_type": "markdown",
   "id": "5affa8ca",
   "metadata": {
    "papermill": {
     "duration": 0.024294,
     "end_time": "2024-04-15T14:33:02.381276",
     "exception": false,
     "start_time": "2024-04-15T14:33:02.356982",
     "status": "completed"
    },
    "tags": []
   },
   "source": [
    "<a id=\"1\" ></a>\n",
    "## **Visually explore the data**"
   ]
  },
  {
   "cell_type": "code",
   "execution_count": 1,
   "id": "3dadf171",
   "metadata": {
    "_cell_guid": "b1076dfc-b9ad-4769-8c92-a6c4dae69d19",
    "_uuid": "8f2839f25d086af736a60e9eeb907d3b93b6e0e5",
    "execution": {
     "iopub.execute_input": "2024-04-15T14:33:02.432831Z",
     "iopub.status.busy": "2024-04-15T14:33:02.432442Z",
     "iopub.status.idle": "2024-04-15T14:33:12.740036Z",
     "shell.execute_reply": "2024-04-15T14:33:12.738830Z"
    },
    "papermill": {
     "duration": 10.336688,
     "end_time": "2024-04-15T14:33:12.742567",
     "exception": false,
     "start_time": "2024-04-15T14:33:02.405879",
     "status": "completed"
    },
    "tags": []
   },
   "outputs": [
    {
     "name": "stdout",
     "output_type": "stream",
     "text": [
      "Total bad lines encountered: 8\n",
      "Total lines in the facebook file: 72081 \n",
      "\n",
      "Total bad lines encountered: 4\n",
      "Total lines in the google file: 356521 \n",
      "\n",
      "Total bad lines encountered: 8472\n",
      "Total lines in the website file: 72019\n"
     ]
    }
   ],
   "source": [
    "import numpy as np \n",
    "import pandas as pd \n",
    "\n",
    "bad_lines = []\n",
    "\n",
    "def handle_bad_lines(line):\n",
    "    bad_lines.append(line)\n",
    "    \n",
    "file_path_fb = \"../input/companies-datasets/datasets/facebook_dataset.csv\"\n",
    "\n",
    "facebook = pd.read_csv(file_path_fb, on_bad_lines = handle_bad_lines, engine = 'python')\n",
    "\n",
    "print(f\"Total bad lines encountered: {len(bad_lines)}\")\n",
    "\n",
    "def lines_number(path):\n",
    "    with open(path, 'r') as file:\n",
    "        total_lines = sum(1 for line in file)\n",
    "        \n",
    "    return total_lines\n",
    "\n",
    "print(f\"Total lines in the facebook file: {lines_number(file_path_fb)}\", '\\n')\n",
    "\n",
    "# check the lines that are inconsitent\n",
    "# for line in range(len(bad_lines)):\n",
    "#     print(bad_lines[line], '\\n')\n",
    "\n",
    "bad_lines = []\n",
    "\n",
    "file_path_gg = \"../input/companies-datasets/datasets/google_dataset.csv\"\n",
    "google = pd.read_csv(file_path_gg, on_bad_lines = handle_bad_lines, engine = 'python')\n",
    "\n",
    "print(f\"Total bad lines encountered: {len(bad_lines)}\")\n",
    "\n",
    "print(f\"Total lines in the google file: {lines_number(file_path_gg)}\", '\\n')\n",
    "\n",
    "\n",
    "# for line in range(len(bad_lines)):\n",
    "#     print(bad_lines[line], '\\n')\n",
    "\n",
    "bad_lines = []\n",
    "file_path_wb = \"../input/companies-datasets/datasets/website_dataset.csv\"\n",
    "company = pd.read_csv(file_path_wb, on_bad_lines = handle_bad_lines, engine = 'python')\n",
    "\n",
    "print(f\"Total bad lines encountered: {len(bad_lines)}\")\n",
    "\n",
    "print(f\"Total lines in the website file: {lines_number(file_path_wb)}\") "
   ]
  },
  {
   "cell_type": "markdown",
   "id": "832e145e",
   "metadata": {
    "papermill": {
     "duration": 0.024935,
     "end_time": "2024-04-15T14:33:12.793001",
     "exception": false,
     "start_time": "2024-04-15T14:33:12.768066",
     "status": "completed"
    },
    "tags": []
   },
   "source": [
    "* Parsing errors encountered, which means that there are lines with inconsitencies - fields are not correctly separated by commas.\n",
    "* Since the number of bad lines is almost irrelevant compared to the total number of lines (companies listed), they were removed.\n",
    "* I checked the data from the website_dataset.csv file and it looks as an excel file. Because it is saved as a .csv file, I opened it into a text editor to check the delimiter / or if the file contains plain text only, noticing that the delimiter is \";\"."
   ]
  },
  {
   "cell_type": "code",
   "execution_count": 2,
   "id": "16601e2b",
   "metadata": {
    "execution": {
     "iopub.execute_input": "2024-04-15T14:33:12.845056Z",
     "iopub.status.busy": "2024-04-15T14:33:12.844675Z",
     "iopub.status.idle": "2024-04-15T14:33:18.208969Z",
     "shell.execute_reply": "2024-04-15T14:33:18.206976Z"
    },
    "papermill": {
     "duration": 5.393487,
     "end_time": "2024-04-15T14:33:18.211519",
     "exception": false,
     "start_time": "2024-04-15T14:33:12.818032",
     "status": "completed"
    },
    "tags": []
   },
   "outputs": [
    {
     "name": "stdout",
     "output_type": "stream",
     "text": [
      "Data from Facebook:  \n",
      "\n",
      "                    domain                                            address  \\\n",
      "0       euro-hygiene-34.fr  134 rue entrepreneurs, za du vigné, 30420, cal...   \n",
      "1  lakesidehomeservices.ca                                                NaN   \n",
      "2        rossiterboats.com                                                NaN   \n",
      "\n",
      "                                          categories       city country_code  \\\n",
      "0                                                NaN  calvisson           fr   \n",
      "1  Appliance Repair & Maintenance|Home Builders &...        NaN           ca   \n",
      "2        Boats & Yachts Dealers|Boat Tours & Cruises        NaN          NaN   \n",
      "\n",
      "  country_name                                        description  \\\n",
      "0       france                                                NaN   \n",
      "1          NaN                                                NaN   \n",
      "2          NaN  At Rossiter Boats we build semi-custom power b...   \n",
      "\n",
      "                    email                             link  \\\n",
      "0                     NaN       https://euro-hygiene-34.fr   \n",
      "1                     NaN  https://lakesidehomeservices.ca   \n",
      "2  info@rossiterboats.com         http://rossiterboats.com   \n",
      "\n",
      "                     name      page_type         phone phone_country_code  \\\n",
      "0            Euro Hygiène  LocalBusiness           NaN                NaN   \n",
      "1  Lakeside Home Services  LocalBusiness  1.613832e+10                 ca   \n",
      "2          Rossiter Boats  LocalBusiness           NaN                NaN   \n",
      "\n",
      "  region_code region_name zip_code  \n",
      "0         occ   occitanie    30420  \n",
      "1         NaN         NaN      NaN  \n",
      "2         NaN         NaN      NaN   \n",
      "\n",
      "Data from Google:  \n",
      "\n",
      "                                             address  \\\n",
      "0  28 Central Coast Hwy, West Gosford NSW 2250, A...   \n",
      "1   400 Scott St, St. Catharines, ON L2M 3W2, Canada   \n",
      "2      191 Pleasant St, Yarmouth, NS B5A 2J9, Canada   \n",
      "\n",
      "                            category            city country_code  \\\n",
      "0            Fabric-Based Home Goods         gosford           au   \n",
      "1                        Book Stores  st. catharines           ca   \n",
      "2  Other Building Material Retailers        yarmouth           ca   \n",
      "\n",
      "  country_name                           name         phone  \\\n",
      "0    australia         Spotlight West Gosford  +61243355946   \n",
      "1       canada  Heritage Christian Book Store  +19059374553   \n",
      "2       canada           Pleasant Timber Mart  +19027429181   \n",
      "\n",
      "  phone_country_code                                  raw_address  \\\n",
      "0                 au                  West Gosford NSW, Australia   \n",
      "1                 ca             400 Scott St · In Grantham Plaza   \n",
      "2                 ca  7+ years in business · Yarmouth, NS, Canada   \n",
      "\n",
      "         raw_phone region_code      region_name  \\\n",
      "0  +61 2 4335 5946         nsw  new south wales   \n",
      "1  +1 905-937-4553          on          ontario   \n",
      "2  +1 902-742-9181          ns      nova scotia   \n",
      "\n",
      "                                                text zip_code  \\\n",
      "0  4.1 (766) · Craft store West Gosford NSW, Aust...     2250   \n",
      "1  4.7 (100) · Book store 400 Scott St · In Grant...  l2m 3w2   \n",
      "2  4.7 (40) · Building materials store 7+ years i...  b5a 2j9   \n",
      "\n",
      "                domain  \n",
      "0  spotlightstores.com  \n",
      "1      bookmanager.com  \n",
      "2        timbermart.ca   \n",
      "\n",
      "Data from a Company website:  \n",
      "\n",
      "           root_domain domain_suffix language  \\\n",
      "0     converterman.com           NaN      NaN   \n",
      "1  clothesencounter.ca            ca       en   \n",
      "2       investa.com.au        com.au       en   \n",
      "\n",
      "                                   legal_name main_city main_country  \\\n",
      "0                                         NaN       NaN          NaN   \n",
      "1                                         NaN  cardigan       canada   \n",
      "2  Investa Wholesale Funds Management Limited  brisbane    australia   \n",
      "\n",
      "            main_region        phone               site_name  tld  \\\n",
      "0                   NaN          NaN                     NaN  NaN   \n",
      "1  prince edward island  13066937766       Clothes Encounter   ca   \n",
      "2            queensland  61282269300  Investa Property Group   au   \n",
      "\n",
      "                      s_category  \n",
      "0                            NaN  \n",
      "1  Shoes & Other Footwear Stores  \n",
      "2         Real Estate Developers   \n",
      "\n",
      "\n",
      "\n",
      "\n",
      "\n"
     ]
    }
   ],
   "source": [
    "facebook = pd.read_csv(file_path_fb, on_bad_lines = 'skip')\n",
    "google = pd.read_csv(file_path_gg, on_bad_lines = 'skip', low_memory = False)\n",
    "company = pd.read_csv(file_path_wb, sep = ';')\n",
    "\n",
    "print(\"Data from Facebook: \", '\\n')\n",
    "print(facebook.head(3), '\\n')\n",
    "print(\"Data from Google: \", '\\n')\n",
    "print(google.head(3), '\\n')\n",
    "print(\"Data from a Company website: \", '\\n')\n",
    "print(company.head(3), '\\n'*5)"
   ]
  },
  {
   "cell_type": "markdown",
   "id": "7c92eb33",
   "metadata": {
    "papermill": {
     "duration": 0.025107,
     "end_time": "2024-04-15T14:33:18.263173",
     "exception": false,
     "start_time": "2024-04-15T14:33:18.238066",
     "status": "completed"
    },
    "tags": []
   },
   "source": [
    "<a id=\"2\" ></a>\n",
    "## **Missing data**"
   ]
  },
  {
   "cell_type": "code",
   "execution_count": 3,
   "id": "09a72920",
   "metadata": {
    "execution": {
     "iopub.execute_input": "2024-04-15T14:33:18.316586Z",
     "iopub.status.busy": "2024-04-15T14:33:18.315849Z",
     "iopub.status.idle": "2024-04-15T14:33:19.930114Z",
     "shell.execute_reply": "2024-04-15T14:33:19.928961Z"
    },
    "papermill": {
     "duration": 1.644103,
     "end_time": "2024-04-15T14:33:19.932808",
     "exception": false,
     "start_time": "2024-04-15T14:33:18.288705",
     "status": "completed"
    },
    "tags": []
   },
   "outputs": [
    {
     "name": "stdout",
     "output_type": "stream",
     "text": [
      "Missing data in Facebook dataframe: \n",
      "                     Total values missing  Percent of missing data\n",
      "email                              51414                72.244158\n",
      "description                        43978                61.795495\n",
      "zip_code                           35544                49.944497\n",
      "phone_country_code                 33616                47.235376\n",
      "phone                              26818                37.683196\n",
      "region_code                        26605                37.383900\n",
      "region_name                        26605                37.383900\n",
      "city                               26600                37.376874\n",
      "country_name                       26302                36.958141\n",
      "categories                         16574                23.288884\n",
      "address                            14477                20.342293\n",
      "country_code                       13976                19.638316\n",
      "page_type                              4                 0.005621\n",
      "domain                                 0                 0.000000\n",
      "link                                   0                 0.000000\n",
      "name                                   0                 0.000000 \n",
      "\n",
      "Missing data in Google dataframe: \n",
      "                     Total values missing  Percent of missing data\n",
      "phone_country_code                112821                32.520285\n",
      "zip_code                           81279                23.428407\n",
      "country_code                       51564                14.863155\n",
      "category                           51063                14.718743\n",
      "region_code                        44876                12.935361\n",
      "region_name                        44871                12.933919\n",
      "city                               44726                12.892124\n",
      "country_name                       44690                12.881747\n",
      "raw_address                        44016                12.687468\n",
      "phone                              32136                 9.263097\n",
      "raw_phone                          27948                 8.055920\n",
      "address                            25610                 7.381999\n",
      "text                                3514                 1.012899\n",
      "name                                  32                 0.009224\n",
      "domain                                 2                 0.000576 \n",
      "\n",
      "Missing data in Company dataframe: \n",
      "                Total values missing  Percent of missing data\n",
      "legal_name                    40029                55.581938\n",
      "main_region                   11085                15.391985\n",
      "main_city                     11052                15.346163\n",
      "main_country                   7149                 9.926685\n",
      "phone                          6378                 8.856119\n",
      "language                       5192                 7.209309\n",
      "site_name                      3304                 4.587742\n",
      "s_category                     1384                 1.921742\n",
      "tld                             261                 0.362409\n",
      "domain_suffix                   118                 0.163848\n",
      "root_domain                       1                 0.001389 \n",
      "\n"
     ]
    }
   ],
   "source": [
    "def missing_data(df, df_name):\n",
    "    total = df.isnull().sum().sort_values(ascending = False)\n",
    "    percent = (df.isnull().sum() / df.shape[0] * 100).sort_values(ascending = False)\n",
    "    \n",
    "    result = pd.concat([total, percent], axis = 1, keys = ['Total values missing', 'Percent of missing data'])\n",
    "    \n",
    "    print(f\"Missing data in {df_name} dataframe: \\n {result} \\n\")\n",
    "    \n",
    "missing_data(facebook, 'Facebook')\n",
    "missing_data(google, 'Google')\n",
    "missing_data(company, 'Company')"
   ]
  },
  {
   "cell_type": "markdown",
   "id": "6c5e3cf1",
   "metadata": {
    "papermill": {
     "duration": 0.025326,
     "end_time": "2024-04-15T14:33:19.984036",
     "exception": false,
     "start_time": "2024-04-15T14:33:19.958710",
     "status": "completed"
    },
    "tags": []
   },
   "source": [
    "<a id=\"3\" ></a>\n",
    "## **Keep only the most relevant columns and rename them across all the datasets / create filtered datasets**"
   ]
  },
  {
   "cell_type": "code",
   "execution_count": 4,
   "id": "9a42edff",
   "metadata": {
    "execution": {
     "iopub.execute_input": "2024-04-15T14:33:20.037742Z",
     "iopub.status.busy": "2024-04-15T14:33:20.037344Z",
     "iopub.status.idle": "2024-04-15T14:33:21.023887Z",
     "shell.execute_reply": "2024-04-15T14:33:21.022289Z"
    },
    "papermill": {
     "duration": 1.016818,
     "end_time": "2024-04-15T14:33:21.026757",
     "exception": false,
     "start_time": "2024-04-15T14:33:20.009939",
     "status": "completed"
    },
    "tags": []
   },
   "outputs": [
    {
     "name": "stdout",
     "output_type": "stream",
     "text": [
      "Index(['name', 'category', 'country', 'country_code', 'region', 'city',\n",
      "       'zip_code', 'phone', 'address'],\n",
      "      dtype='object') \n",
      "\n",
      "Index(['name', 'category', 'country', 'country_code', 'region', 'city',\n",
      "       'zip_code', 'phone', 'address'],\n",
      "      dtype='object') \n",
      "\n",
      "Index(['name', 'category', 'region', 'city', 'country', 'phone'], dtype='object') \n",
      "\n",
      "\n",
      "\n",
      "\n",
      "\n",
      "Missing data in the facebook dataframe: \n",
      "Missing data in  dataframe: \n",
      "               Total values missing  Percent of missing data\n",
      "zip_code                     35544                49.944497\n",
      "phone                        26818                37.683196\n",
      "region                       26605                37.383900\n",
      "city                         26600                37.376874\n",
      "country                      26302                36.958141\n",
      "category                     16574                23.288884\n",
      "address                      14477                20.342293\n",
      "country_code                 13976                19.638316\n",
      "name                             0                 0.000000 \n",
      "\n",
      "None \n",
      "\n",
      "Missing data in the google dataframe: \n",
      "Missing data in  dataframe: \n",
      "               Total values missing  Percent of missing data\n",
      "zip_code                     81279                23.428407\n",
      "country_code                 51564                14.863155\n",
      "category                     51063                14.718743\n",
      "region                       44871                12.933919\n",
      "city                         44726                12.892124\n",
      "country                      44690                12.881747\n",
      "phone                        32136                 9.263097\n",
      "address                      25610                 7.381999\n",
      "name                            32                 0.009224 \n",
      "\n",
      "None \n",
      "\n",
      "Missing data in the company dataframe: \n",
      "Missing data in  dataframe: \n",
      "           Total values missing  Percent of missing data\n",
      "name                     40029                55.581938\n",
      "region                   11085                15.391985\n",
      "city                     11052                15.346163\n",
      "country                   7149                 9.926685\n",
      "phone                     6378                 8.856119\n",
      "category                  1384                 1.921742 \n",
      "\n",
      "None\n"
     ]
    }
   ],
   "source": [
    "# columns that I am most interested overall\n",
    "columns_to_keep = [ 'name', 'category', 'country', 'country_code','region', 'city', 'zip_code', 'phone', 'address']\n",
    "\n",
    "# rename the columns accross datasets to match\n",
    "facebook.rename(columns = {'categories': 'category', 'country_name': 'country', 'region_name': 'region'}, inplace = True)\n",
    "google.rename(columns  ={'country_name': 'country', 'region_name': 'region'}, inplace = True)\n",
    "company.rename(columns = {'s_category': 'category', 'main_country': 'country', 'legal_name': 'name', 'main_city': 'city', 'main_region': 'region'}, inplace = True)\n",
    "\n",
    "# create new df with specific columns\n",
    "facebook_filtered = facebook[columns_to_keep]\n",
    "google_filtered = google[columns_to_keep]\n",
    "company_filtered = company[['name', 'category', 'region', 'city', 'country', 'phone']]\n",
    "\n",
    "# check each dataset has the same common columns names\n",
    "print(facebook_filtered.columns, '\\n')\n",
    "print(google_filtered.columns, '\\n')\n",
    "print(company_filtered.columns, '\\n'*5)\n",
    "\n",
    "# check missing data again, but for the filtered datasets\n",
    "\n",
    "print(\"Missing data in the facebook dataframe: \")\n",
    "print(missing_data(facebook_filtered, ''), '\\n')\n",
    "\n",
    "print(\"Missing data in the google dataframe: \")\n",
    "print(missing_data(google_filtered, ''), '\\n')\n",
    "\n",
    "print(\"Missing data in the company dataframe: \")\n",
    "print(missing_data(company_filtered, ''))"
   ]
  },
  {
   "cell_type": "code",
   "execution_count": 5,
   "id": "ea3637db",
   "metadata": {
    "execution": {
     "iopub.execute_input": "2024-04-15T14:33:21.080560Z",
     "iopub.status.busy": "2024-04-15T14:33:21.080137Z",
     "iopub.status.idle": "2024-04-15T14:33:21.315913Z",
     "shell.execute_reply": "2024-04-15T14:33:21.314711Z"
    },
    "papermill": {
     "duration": 0.265842,
     "end_time": "2024-04-15T14:33:21.318581",
     "exception": false,
     "start_time": "2024-04-15T14:33:21.052739",
     "status": "completed"
    },
    "tags": []
   },
   "outputs": [
    {
     "name": "stdout",
     "output_type": "stream",
     "text": [
      "DATASETS DIMENSIONS: \n",
      "FACEBOOK: : 71167 \n",
      "\n",
      "GOOGLE:  346925 \n",
      "\n",
      "COMPANY:  72018 \n",
      "\n",
      "\n",
      "Unique names count in Facebook dataset: 70999 \n",
      "\n",
      "Unique names count in Google dataset: 344398 \n",
      "\n",
      "Unique names count in Company dataset: 30619 \n",
      "\n"
     ]
    }
   ],
   "source": [
    "def unique_names(df, df_name):\n",
    "    count = df['name'].nunique()\n",
    "    print(f\"Unique names count in {df_name} dataset: {count}\", '\\n')\n",
    "\n",
    "print(\"DATASETS DIMENSIONS: \")\n",
    "print(\"FACEBOOK: :\", facebook.shape[0], '\\n')\n",
    "print(\"GOOGLE: \", google.shape[0], '\\n')\n",
    "print(\"COMPANY: \", company.shape[0], '\\n'*2)\n",
    "\n",
    "\n",
    "unique_names(facebook_filtered, 'Facebook')\n",
    "unique_names(google_filtered, 'Google')\n",
    "unique_names(company_filtered, 'Company')"
   ]
  },
  {
   "cell_type": "code",
   "execution_count": 6,
   "id": "f5204f84",
   "metadata": {
    "execution": {
     "iopub.execute_input": "2024-04-15T14:33:21.373521Z",
     "iopub.status.busy": "2024-04-15T14:33:21.373101Z",
     "iopub.status.idle": "2024-04-15T14:33:21.386804Z",
     "shell.execute_reply": "2024-04-15T14:33:21.384992Z"
    },
    "papermill": {
     "duration": 0.04414,
     "end_time": "2024-04-15T14:33:21.389333",
     "exception": false,
     "start_time": "2024-04-15T14:33:21.345193",
     "status": "completed"
    },
    "tags": []
   },
   "outputs": [
    {
     "name": "stdout",
     "output_type": "stream",
     "text": [
      "61741             NaN\n",
      "70978             NaN\n",
      "34385    1.709489e+10\n",
      "29229             NaN\n",
      "23935             NaN\n",
      "28718    1.780718e+10\n",
      "24642    1.647547e+10\n",
      "62212    1.519304e+10\n",
      "4871              NaN\n",
      "61833             NaN\n",
      "Name: phone, dtype: float64\n"
     ]
    }
   ],
   "source": [
    "print(facebook_filtered['phone'].sample(10))"
   ]
  },
  {
   "cell_type": "code",
   "execution_count": 7,
   "id": "f3d1dad3",
   "metadata": {
    "execution": {
     "iopub.execute_input": "2024-04-15T14:33:21.444581Z",
     "iopub.status.busy": "2024-04-15T14:33:21.443918Z",
     "iopub.status.idle": "2024-04-15T14:33:21.555881Z",
     "shell.execute_reply": "2024-04-15T14:33:21.554645Z"
    },
    "papermill": {
     "duration": 0.142223,
     "end_time": "2024-04-15T14:33:21.558314",
     "exception": false,
     "start_time": "2024-04-15T14:33:21.416091",
     "status": "completed"
    },
    "tags": []
   },
   "outputs": [
    {
     "name": "stderr",
     "output_type": "stream",
     "text": [
      "/tmp/ipykernel_18/2193437390.py:2: FutureWarning: Setting an item of incompatible dtype is deprecated and will raise in a future error of pandas. Value '[nan '16138318840.0' nan ... '12703513222.0' '15197472256.0'\n",
      " '14167924420.0']' has dtype incompatible with float64, please explicitly cast to a compatible dtype first.\n",
      "  facebook_filtered.loc[:, 'phone'] = facebook_filtered['phone'].astype(str).replace('nan', np.nan).astype(object)\n"
     ]
    }
   ],
   "source": [
    "#facebook_filtered['phone'] = facebook_filtered['phone'].astype(str).replace('nan', np.nan)\n",
    "facebook_filtered.loc[:, 'phone'] = facebook_filtered['phone'].astype(str).replace('nan', np.nan).astype(object)"
   ]
  },
  {
   "cell_type": "code",
   "execution_count": 8,
   "id": "6d060945",
   "metadata": {
    "execution": {
     "iopub.execute_input": "2024-04-15T14:33:21.614576Z",
     "iopub.status.busy": "2024-04-15T14:33:21.614113Z",
     "iopub.status.idle": "2024-04-15T14:33:21.623788Z",
     "shell.execute_reply": "2024-04-15T14:33:21.622489Z"
    },
    "papermill": {
     "duration": 0.040626,
     "end_time": "2024-04-15T14:33:21.626206",
     "exception": false,
     "start_time": "2024-04-15T14:33:21.585580",
     "status": "completed"
    },
    "tags": []
   },
   "outputs": [
    {
     "name": "stdout",
     "output_type": "stream",
     "text": [
      "41015     15064588262.0\n",
      "55027     14162222652.0\n",
      "41818     12508772710.0\n",
      "13066               NaN\n",
      "16862    441162621151.0\n",
      "68009               NaN\n",
      "67263     14186942050.0\n",
      "67431               NaN\n",
      "48835     14162142002.0\n",
      "36953     16042540354.0\n",
      "Name: phone, dtype: object\n"
     ]
    }
   ],
   "source": [
    "print(facebook_filtered['phone'].sample(10))"
   ]
  },
  {
   "cell_type": "code",
   "execution_count": 9,
   "id": "9f607673",
   "metadata": {
    "execution": {
     "iopub.execute_input": "2024-04-15T14:33:21.744287Z",
     "iopub.status.busy": "2024-04-15T14:33:21.743153Z",
     "iopub.status.idle": "2024-04-15T14:33:21.862702Z",
     "shell.execute_reply": "2024-04-15T14:33:21.861497Z"
    },
    "papermill": {
     "duration": 0.150408,
     "end_time": "2024-04-15T14:33:21.865492",
     "exception": false,
     "start_time": "2024-04-15T14:33:21.715084",
     "status": "completed"
    },
    "tags": []
   },
   "outputs": [
    {
     "name": "stdout",
     "output_type": "stream",
     "text": [
      "41419    15196542582\n",
      "62417    14169649088\n",
      "64251    13063817776\n",
      "56019    97165260003\n",
      "42636    78312817964\n",
      "8401             NaN\n",
      "11664            NaN\n",
      "69895    15192683148\n",
      "42935            NaN\n",
      "47669            NaN\n",
      "Name: phone, dtype: object\n"
     ]
    }
   ],
   "source": [
    "# convert phone numbers to string and remove the trailing .0\n",
    "facebook_filtered.loc[:, 'phone'] = facebook_filtered['phone'].astype(str).str.replace(r'\\.0$', '', regex = True)\n",
    "\n",
    "# convert nan strings back to NaN values (to maintain missing data integrity)\n",
    "facebook_filtered.loc[:, 'phone'] = facebook_filtered['phone'].replace('nan', np.nan)\n",
    "\n",
    "print(facebook_filtered['phone'].sample(10))"
   ]
  },
  {
   "cell_type": "markdown",
   "id": "47110801",
   "metadata": {
    "papermill": {
     "duration": 0.027581,
     "end_time": "2024-04-15T14:33:21.921168",
     "exception": false,
     "start_time": "2024-04-15T14:33:21.893587",
     "status": "completed"
    },
    "tags": []
   },
   "source": [
    "* All the datasets together contain 490 110 rows (with data regarding companies), out of which 450 049 (keeping in mind the missing data) are not null, out of which 446 016 are unique values. This means that the final dataset will have at most ~446k companies data. The closer to this number, the better."
   ]
  },
  {
   "cell_type": "markdown",
   "id": "74db687d",
   "metadata": {
    "papermill": {
     "duration": 0.027498,
     "end_time": "2024-04-15T14:33:21.976065",
     "exception": false,
     "start_time": "2024-04-15T14:33:21.948567",
     "status": "completed"
    },
    "tags": []
   },
   "source": [
    "<a id=\"4\" ></a>\n",
    "## **Duplicated rows in each dataset**"
   ]
  },
  {
   "cell_type": "code",
   "execution_count": 10,
   "id": "30f22406",
   "metadata": {
    "execution": {
     "iopub.execute_input": "2024-04-15T14:33:22.032408Z",
     "iopub.status.busy": "2024-04-15T14:33:22.032014Z",
     "iopub.status.idle": "2024-04-15T14:33:23.280839Z",
     "shell.execute_reply": "2024-04-15T14:33:23.279748Z"
    },
    "papermill": {
     "duration": 1.28081,
     "end_time": "2024-04-15T14:33:23.284159",
     "exception": false,
     "start_time": "2024-04-15T14:33:22.003349",
     "status": "completed"
    },
    "tags": []
   },
   "outputs": [
    {
     "name": "stdout",
     "output_type": "stream",
     "text": [
      "Duplicated rows removed from each dataset:\n",
      "Duplicates removed from Facebook: 33\n",
      "Duplicates removed from Google: 55\n",
      "Duplicates removed from Company: 3208\n"
     ]
    }
   ],
   "source": [
    "def remove_duplicates(df):\n",
    "    initial_rows = df.shape[0]\n",
    "    df = df.drop_duplicates()\n",
    "    rows_after_removal = df.shape[0]\n",
    "    return initial_rows - rows_after_removal\n",
    "\n",
    "print('Duplicated rows removed from each dataset:')\n",
    "print(\"Duplicates removed from Facebook:\", remove_duplicates(facebook_filtered))\n",
    "print(\"Duplicates removed from Google:\", remove_duplicates(google_filtered))\n",
    "print(\"Duplicates removed from Company:\", remove_duplicates(company_filtered))"
   ]
  },
  {
   "cell_type": "markdown",
   "id": "3ca7df93",
   "metadata": {
    "papermill": {
     "duration": 0.027625,
     "end_time": "2024-04-15T14:33:23.340774",
     "exception": false,
     "start_time": "2024-04-15T14:33:23.313149",
     "status": "completed"
    },
    "tags": []
   },
   "source": [
    "## **Ideas to implement:**\n",
    "- check unique values for countries to see if the names are gramatically correct and there are no inconsitencies with the lower/upper cases\n",
    "- to keep in mind: the country code may be easily mapped to country if available\n",
    "- noticed inconsistencies in the website.csv file in the phone number column (for eg. 4.13E+11) - convert those strange numbers to actual phone numbers\n",
    "- consider a row valid only if these are not null: name, phone, country\n",
    "- if the country is NaN but the phone number is provided, fill in the country by parsing the phone numbers and getting the prefix associated with it; then possibly populate the country column\n",
    "- possible request to an API to get the region / city according to the address, then I can possibly populate those columns\n",
    "- the main idea is to populate as many columns as possible \n"
   ]
  },
  {
   "cell_type": "code",
   "execution_count": 11,
   "id": "37a1f208",
   "metadata": {
    "execution": {
     "iopub.execute_input": "2024-04-15T14:33:23.397188Z",
     "iopub.status.busy": "2024-04-15T14:33:23.396799Z",
     "iopub.status.idle": "2024-04-15T14:33:23.402586Z",
     "shell.execute_reply": "2024-04-15T14:33:23.401423Z"
    },
    "papermill": {
     "duration": 0.037873,
     "end_time": "2024-04-15T14:33:23.405862",
     "exception": false,
     "start_time": "2024-04-15T14:33:23.367989",
     "status": "completed"
    },
    "tags": []
   },
   "outputs": [
    {
     "name": "stdout",
     "output_type": "stream",
     "text": [
      "(71167, 9)\n",
      "(346925, 9)\n",
      "(72018, 6)\n"
     ]
    }
   ],
   "source": [
    "print(facebook_filtered.shape)\n",
    "print(google_filtered.shape)\n",
    "print(company_filtered.shape)"
   ]
  },
  {
   "cell_type": "code",
   "execution_count": 12,
   "id": "2b2531ed",
   "metadata": {
    "execution": {
     "iopub.execute_input": "2024-04-15T14:33:23.463200Z",
     "iopub.status.busy": "2024-04-15T14:33:23.461923Z",
     "iopub.status.idle": "2024-04-15T14:33:23.469824Z",
     "shell.execute_reply": "2024-04-15T14:33:23.468434Z"
    },
    "papermill": {
     "duration": 0.039083,
     "end_time": "2024-04-15T14:33:23.472415",
     "exception": false,
     "start_time": "2024-04-15T14:33:23.433332",
     "status": "completed"
    },
    "tags": []
   },
   "outputs": [
    {
     "name": "stdout",
     "output_type": "stream",
     "text": [
      "<class 'pandas.core.frame.DataFrame'>\n",
      "Index(['name', 'category', 'region', 'city', 'country', 'phone'], dtype='object')\n",
      "object\n"
     ]
    }
   ],
   "source": [
    "print(type(company_filtered))\n",
    "print(company_filtered.columns)\n",
    "print(company_filtered['country'].dtypes)"
   ]
  },
  {
   "cell_type": "markdown",
   "id": "7b16de80",
   "metadata": {
    "papermill": {
     "duration": 0.027498,
     "end_time": "2024-04-15T14:33:23.528127",
     "exception": false,
     "start_time": "2024-04-15T14:33:23.500629",
     "status": "completed"
    },
    "tags": []
   },
   "source": [
    "<a id=\"5\" ></a>\n",
    "## **Unique values for country**"
   ]
  },
  {
   "cell_type": "code",
   "execution_count": 13,
   "id": "a19e0da0",
   "metadata": {
    "execution": {
     "iopub.execute_input": "2024-04-15T14:33:23.585742Z",
     "iopub.status.busy": "2024-04-15T14:33:23.585314Z",
     "iopub.status.idle": "2024-04-15T14:33:23.691774Z",
     "shell.execute_reply": "2024-04-15T14:33:23.690494Z"
    },
    "papermill": {
     "duration": 0.139212,
     "end_time": "2024-04-15T14:33:23.694980",
     "exception": false,
     "start_time": "2024-04-15T14:33:23.555768",
     "status": "completed"
    },
    "tags": []
   },
   "outputs": [
    {
     "name": "stdout",
     "output_type": "stream",
     "text": [
      "Unique values for country in Facebook: ['france' 'canada' 'australia' 'united states' 'peru' 'norway'\n",
      " 'united arab emirates' 'singapore' 'netherlands' 'turkey'\n",
      " 'trinidad and tobago' 'germany' 'spain' 'united kingdom' 'russia'\n",
      " 'hong kong' 'south africa' 'bangladesh' 'morocco' 'malaysia'\n",
      " 'south korea' 'poland' 'italy' 'gabon' 'greece' 'taiwan' 'switzerland'\n",
      " 'sweden' 'romania' 'india' 'portugal' 'philippines' 'denmark' 'chile'\n",
      " 'mexico' 'oman' 'new zealand' 'belgium' 'brazil' 'georgia' 'china'\n",
      " 'mozambique' 'indonesia' 'ireland' 'qatar' 'pakistan' 'saudi arabia'\n",
      " 'austria' 'vietnam' 'sri lanka' 'colombia' 'slovakia'\n",
      " 'hashemite kingdom of jordan' 'ukraine' 'japan' 'ecuador' 'panama'\n",
      " 'luxembourg' 'tajikistan' 'finland' 'liechtenstein' 'myanmar' 'kuwait'\n",
      " 'egypt' 'hungary' 'israel' 'kosovo' 'thailand' 'costa rica' 'el salvador'\n",
      " 'brunei' 'argentina' 'venezuela' 'bosnia and herzegovina' 'croatia'\n",
      " 'estonia' 'czechia' 'mauritius' 'cambodia' 'zimbabwe' 'botswana'\n",
      " 'paraguay' 'belarus' 'iceland' 'bulgaria' 'republic of lithuania'\n",
      " 'u.s. virgin islands' 'nigeria' 'latvia' 'honduras' 'barbados' 'albania'\n",
      " 'french polynesia' 'angola' 'gibraltar' 'serbia' 'togo' 'puerto rico'\n",
      " 'dominican republic' 'nicaragua' 'namibia' 'réunion' 'lebanon'\n",
      " 'uzbekistan' 'new caledonia' 'guam' 'iraq' 'slovenia'\n",
      " 'republic of moldova' 'monaco' 'uganda' 'zambia' 'bolivia' 'senegal'\n",
      " 'kyrgyzstan' 'armenia'] \n",
      "\n",
      "Unique values for country in Google: ['australia' 'canada' 'united states' 'malaysia' 'united kingdom'\n",
      " 'belgium' 'france' 'turkey' 'new zealand' 'germany' 'qatar' 'japan'\n",
      " 'hong kong' 'italy' 'south africa' 'romania' 'mexico' 'ecuador' 'uganda'\n",
      " 'puerto rico' 'philippines' 'bosnia and herzegovina' 'pakistan' 'taiwan'\n",
      " 'malta' 'brazil' 'andorra' 'saudi arabia' 'netherlands' 'spain'\n",
      " 'slovenia' 'jamaica' 'bangladesh' 'india' 'benin' 'liberia' 'martinique'\n",
      " 'russia' 'poland' 'china' 'albania' 'colombia' 'laos' 'greece' 'denmark'\n",
      " 'united arab emirates' 'ukraine' 'guatemala' 'austria' 'south korea'\n",
      " 'portugal' 'vietnam' 'bulgaria' 'belarus' 'czechia' 'norway' 'ireland'\n",
      " 'croatia' 'el salvador' 'iraq' 'cuba' 'nicaragua' 'venezuela' 'hungary'\n",
      " 'chile' 'thailand' 'finland' 'luxembourg' 'cambodia' 'sweden' 'zimbabwe'\n",
      " 'switzerland' 'indonesia' 'burundi' 'guinea' 'egypt' 'oman' 'algeria'\n",
      " 'peru' 'nigeria' 'ghana' 'sri lanka' 'singapore' 'argentina' 'guyana'\n",
      " 'faroe islands' 'iceland' 'republic of lithuania' 'curaçao' 'guadeloupe'\n",
      " 'honduras' 'sudan' 'bolivia' 'serbia' 'costa rica' 'papua new guinea'\n",
      " 'dominican republic' 'panama' 'slovakia' 'nepal' 'lebanon' 'morocco'\n",
      " 'bahamas' 'estonia' 'cameroon' 'ethiopia' 'latvia' 'u.s. virgin islands'\n",
      " 'kyrgyzstan' 'georgia' 'libya' 'trinidad and tobago' 'vanuatu' 'malawi'\n",
      " 'paraguay' 'madagascar' 'montenegro' 'botswana' 'north macedonia'\n",
      " 'rwanda' 'tunisia' 'aruba' 'haiti' 'gabon' 'solomon islands' 'bahrain'\n",
      " 'senegal' 'kazakhstan' 'brunei' 'republic of moldova' 'burkina faso'\n",
      " 'mozambique' 'mauritania' 'zambia' 'belize' 'tajikistan' 'kuwait'\n",
      " 'somalia' 'liechtenstein' 'israel' 'uzbekistan' 'afghanistan'\n",
      " 'sint maarten' 'gambia' 'fiji' 'niger' 'armenia' 'tonga' 'uruguay'\n",
      " 'azerbaijan' 'yemen' 'Åland' 'mali' 'togo' 'namibia' 'mauritius'\n",
      " 'barbados' 'angola' 'suriname' 'myanmar' 'seychelles' 'saint lucia'\n",
      " 'samoa' 'comoros' 'central african republic' 'maldives' 'sierra leone'\n",
      " 'dominica' 'french polynesia' 'bhutan' 'guam' 'bermuda' 'kenya'\n",
      " 'new caledonia' 'greenland' 'saint vincent and the grenadines'\n",
      " 'south sudan' 'french guiana' 'lesotho' 'american samoa' 'iran' 'reunion'\n",
      " 'guinea-bissau' 'isle of man' 'jersey' 'hashemite kingdom of jordan'\n",
      " 'st kitts and nevis'] \n",
      "\n",
      "Unique values for country in Company: ['canada' 'australia' 'Canada' 'germany' 'united states' 'ireland'\n",
      " 'malaysia' 'united kingdom' 'italy' 'netherlands' 'Taiwan'\n",
      " 'united arab emirates' 'hong kong' 'brazil' 'bangladesh' 'Russia'\n",
      " 'argentina' 'finland' 'russia' 'austria' 'india' 'japan' 'new zealand'\n",
      " 'chile' 'Greece' 'latvia' 'Australia' 'greece' 'philippines' 'belgium'\n",
      " 'Samoa' 'china' 'turkey' 'croatia' 'South Africa' 'Spain' 'Japan' 'Kenya'\n",
      " 'saudi arabia' 'taiwan' 'south africa' 'vietnam' 'singapore' 'spain'\n",
      " 'israel' 'qatar' 'norway' 'france' 'thailand' 'kuwait' 'Turkey' 'poland'\n",
      " 'Malaysia' 'togo' 'Ireland' 'portugal' 'bulgaria' 'Colombia' 'costa rica'\n",
      " 'colombia' 'switzerland' 'puerto rico' 'nigeria' 'Qatar' 'sweden'\n",
      " 'czechia' 'south korea' 'afghanistan' 'India' 'Singapore' 'iraq'\n",
      " 'bosnia and herzegovina' 'peru' 'hungary' 'Belgium' '9.02627E+11' 'vn'\n",
      " ',ca,Yoga Studios' '14505810251' 'ca' 'com' 'slovenia' 'senegal'\n",
      " 'Bangladesh' 'sri lanka' 'indonesia' 'denmark' 'papua new guinea'\n",
      " 'Netherlands' 'albania' 'guinea' 'Hong Kong' 'romania' 'South Korea'\n",
      " 'mexico' 'tunisia' 'venezuela' 'kazakhstan' 'mauritius' 'Thailand'\n",
      " 'Philippines' 'oman' 'Cyprus' 'namibia' 'nicaragua' 'Mexico' 'ukraine'\n",
      " 'algeria' 'slovakia' 'nepal' 'Germany' 'Montenegro' 'uruguay' 'egypt'\n",
      " 'Czechia' 'Romania' 'Guatemala' 'rwanda' 'Venezuela' 'Poland'\n",
      " 'United Arab Emirates' 'liechtenstein' 'fiji' 'mali' 'ecuador' 'Ecuador'\n",
      " 'serbia' 'benin' 'zimbabwe' 'british virgin islands' 'luxembourg'\n",
      " 'New Zealand' 'el salvador' 'Costa Rica' 'bolivia' 'republic of moldova'\n",
      " 'Turks and Caicos Islands' 'jamaica' 'belize' 'trinidad and tobago'\n",
      " 'mozambique' 'Iraq' 'Anguilla' 'Vietnam' 'British Indian Ocean Territory'\n",
      " 'Ukraine' 'United States' 'France' 'zambia' 'montenegro' 'guatemala'\n",
      " 'botswana' 'belarus' 'pakistan' 'uzbekistan' 'Indonesia' 'cameroon'\n",
      " 'Bolivia' 'bahrain' 'Chile' 'estonia' 'China' 'Italy' 'morocco'\n",
      " 'north macedonia' 'Denmark' 'Switzerland' 'Saudi Arabia'\n",
      " 'central african republic' 'Argentina' 'Hungary' 'Sri Lanka'\n",
      " 'republic of lithuania' 'Tuvalu' 'Dominican Republic' 'monaco' 'laos'\n",
      " 'dominican republic' 'Oman' '19056338118' '13065009983' '73832304679'\n",
      " '14036198966' '15198460191' '61294773500' '19142452186' 'honduras' 'guam'\n",
      " 'hashemite kingdom of jordan' 'lebanon' 'french polynesia'\n",
      " 'Breezeway Yachts' 'Brazil' 'myanmar' 'azerbaijan' 'vanuatu' 'Paraguay'\n",
      " 'tw' '14039425370' '17602434343' 'missouri' 'ivory coast' 'bahamas'\n",
      " 'Peru' 'ethiopia' 'Israel' '17054504440' '14185235213' '19055675400'\n",
      " 'iceland' 'cuba' 'ghana' 'Austria' 'saint martin' 'Bulgaria' 'maldives'\n",
      " 'Madagascar' 'tajikistan' 'barbados' 'san marino' 'angola'\n",
      " 'u.s. virgin islands' 'Finland' 'uganda' 'Cocos [Keeling] Islands'\n",
      " 'kenya' 'burundi' 'malawi' 'malta' 'paraguay' 'Kazakhstan' 'Georgia'\n",
      " 'georgia' 'gabon' 'sint maarten' 'Panama' 'Tonga' 'kosovo' 'panama'\n",
      " 'CuraÃ§ao' '904444949' 'north carolina' 'kyrgyzstan' 'aruba' 'libya'\n",
      " 'new caledonia' 'Niue' 'texas' '18445358505' '56232012000' '4.41623E+11'\n",
      " 'gibraltar' 'Malta' 'bonaire, sint eustatius, and saba' 'bermuda'\n",
      " 'Albania' 'french guiana' 'cambodia' 'manitoba' '17809552401'\n",
      " '13069544119' '18198231141' '14507792852' ',' '81354135927' '17206896120'\n",
      " 'Xi Yuan Chang Zhe Zhong Xin' '8.42344E+11' '9.02423E+11' '14032458008'\n",
      " '16138371020' '14167363663' '13062816518' '14168072253' '13067212045'\n",
      " '14035311500' 'faroe islands' 'Tanzania' 'brunei' 'Republic of Lithuania'\n",
      " 'solomon islands' 'Sweden' 'haiti' 'greenland' 'bhutan' 'Kyrgyzstan'\n",
      " 'armenia' 'El Salvador' 'Be Okay Massage' 'palestine'\n",
      " 'Antigua and Barbuda' 'niger' 'Tunisia' 'Serbia'] \n",
      "\n"
     ]
    }
   ],
   "source": [
    "# new series with nan values dropped from country column to check for unique values and make sure they are correct \n",
    "def unique_values(df, df_name, column):\n",
    "    \n",
    "    non_nan_values = df[column].dropna()\n",
    "    unique_values = non_nan_values.unique()\n",
    "    \n",
    "    print(f'Unique values for {column} in {df_name}: {unique_values} \\n')\n",
    "    \n",
    "unique_values(facebook_filtered, 'Facebook', 'country')\n",
    "unique_values(google_filtered, 'Google', 'country')\n",
    "unique_values(company_filtered, 'Company', 'country')"
   ]
  },
  {
   "cell_type": "markdown",
   "id": "43d54943",
   "metadata": {
    "papermill": {
     "duration": 0.027688,
     "end_time": "2024-04-15T14:33:23.750438",
     "exception": false,
     "start_time": "2024-04-15T14:33:23.722750",
     "status": "completed"
    },
    "tags": []
   },
   "source": [
    "<a id=\"6\" ></a>\n",
    "## **Clean the country column in Company dataset since some values are numerical**"
   ]
  },
  {
   "cell_type": "code",
   "execution_count": 14,
   "id": "41bfb3c9",
   "metadata": {
    "execution": {
     "iopub.execute_input": "2024-04-15T14:33:23.807977Z",
     "iopub.status.busy": "2024-04-15T14:33:23.807518Z",
     "iopub.status.idle": "2024-04-15T14:33:24.103192Z",
     "shell.execute_reply": "2024-04-15T14:33:24.102325Z"
    },
    "papermill": {
     "duration": 0.328263,
     "end_time": "2024-04-15T14:33:24.106388",
     "exception": false,
     "start_time": "2024-04-15T14:33:23.778125",
     "status": "completed"
    },
    "tags": []
   },
   "outputs": [
    {
     "name": "stdout",
     "output_type": "stream",
     "text": [
      "Unique values for countries in company dataset after filtering:  ['canada' 'australia' 'germany' 'united states' 'ireland' 'malaysia'\n",
      " 'united kingdom' 'italy' 'netherlands' 'taiwan' 'united arab emirates'\n",
      " 'hong kong' 'brazil' 'bangladesh' 'russia' 'argentina' 'finland'\n",
      " 'austria' 'india' 'japan' 'new zealand' 'chile' 'greece' 'latvia'\n",
      " 'philippines' 'belgium' 'samoa' 'china' 'turkey' 'croatia' 'south africa'\n",
      " 'spain' 'kenya' 'saudi arabia' 'vietnam' 'singapore' 'israel' 'qatar'\n",
      " 'norway' 'france' 'thailand' 'kuwait' 'poland' 'togo' 'portugal'\n",
      " 'bulgaria' 'colombia' 'costa rica' 'switzerland' 'puerto rico' 'nigeria'\n",
      " 'sweden' 'czechia' 'south korea' 'afghanistan' 'iraq'\n",
      " 'bosnia and herzegovina' 'peru' 'hungary' 'vn' 'ca' 'com' 'slovenia'\n",
      " 'senegal' 'sri lanka' 'indonesia' 'denmark' 'papua new guinea' 'albania'\n",
      " 'guinea' 'romania' 'mexico' 'tunisia' 'venezuela' 'kazakhstan'\n",
      " 'mauritius' 'oman' 'cyprus' 'namibia' 'nicaragua' 'ukraine' 'algeria'\n",
      " 'slovakia' 'nepal' 'montenegro' 'uruguay' 'egypt' 'guatemala' 'rwanda'\n",
      " 'liechtenstein' 'fiji' 'mali' 'ecuador' 'serbia' 'benin' 'zimbabwe'\n",
      " 'british virgin islands' 'luxembourg' 'el salvador' 'bolivia'\n",
      " 'republic of moldova' 'turks and caicos islands' 'jamaica' 'belize'\n",
      " 'trinidad and tobago' 'mozambique' 'anguilla'\n",
      " 'british indian ocean territory' 'zambia' 'botswana' 'belarus' 'pakistan'\n",
      " 'uzbekistan' 'cameroon' 'bahrain' 'estonia' 'morocco' 'north macedonia'\n",
      " 'central african republic' 'republic of lithuania' 'tuvalu'\n",
      " 'dominican republic' 'monaco' 'laos' 'honduras' 'guam'\n",
      " 'hashemite kingdom of jordan' 'lebanon' 'french polynesia'\n",
      " 'breezeway yachts' 'myanmar' 'azerbaijan' 'vanuatu' 'paraguay' 'tw'\n",
      " 'missouri' 'ivory coast' 'bahamas' 'ethiopia' 'iceland' 'cuba' 'ghana'\n",
      " 'saint martin' 'maldives' 'madagascar' 'tajikistan' 'barbados'\n",
      " 'san marino' 'angola' 'uganda' 'burundi' 'malawi' 'malta' 'georgia'\n",
      " 'gabon' 'sint maarten' 'panama' 'tonga' 'kosovo' 'north carolina'\n",
      " 'kyrgyzstan' 'aruba' 'libya' 'new caledonia' 'niue' 'texas' 'gibraltar'\n",
      " 'bermuda' 'french guiana' 'cambodia' 'manitoba'\n",
      " 'xi yuan chang zhe zhong xin' 'faroe islands' 'tanzania' 'brunei'\n",
      " 'solomon islands' 'haiti' 'greenland' 'bhutan' 'armenia'\n",
      " 'be okay massage' 'palestine' 'antigua and barbuda' 'niger']\n"
     ]
    }
   ],
   "source": [
    "# delete rows where there are non-string values for country column in company dataset\n",
    "# regex matches letters (both lowercase and uppercase), $ asserts the end of the string, ensuring the entire string follows the pattern\n",
    "company_filtered = company_filtered[company_filtered['country'].str.match(r'^[a-zA-Z]+(?:[ -][a-zA-Z]+)*$') | company_filtered['country'].isna()]\n",
    "\n",
    "# some countries were upper cased\n",
    "company_filtered['country'] = company_filtered['country'].str.lower()\n",
    "\n",
    "# noticed a 001 value in the google dataset, in country code column and removed that row\n",
    "google_filtered = google_filtered[google_filtered['country_code'] != '001']\n",
    "\n",
    "unique_v = company_filtered['country'].dropna().unique()\n",
    "print(\"Unique values for countries in company dataset after filtering: \", unique_v)"
   ]
  },
  {
   "cell_type": "markdown",
   "id": "cfcdb7be",
   "metadata": {
    "papermill": {
     "duration": 0.02752,
     "end_time": "2024-04-15T14:33:24.161704",
     "exception": false,
     "start_time": "2024-04-15T14:33:24.134184",
     "status": "completed"
    },
    "tags": []
   },
   "source": [
    "<a id=\"7\" ></a>\n",
    "## **Unique values for country code to check the format (2 or 3 letters)**"
   ]
  },
  {
   "cell_type": "code",
   "execution_count": 15,
   "id": "0e3a3443",
   "metadata": {
    "execution": {
     "iopub.execute_input": "2024-04-15T14:33:24.219367Z",
     "iopub.status.busy": "2024-04-15T14:33:24.218888Z",
     "iopub.status.idle": "2024-04-15T14:33:24.303645Z",
     "shell.execute_reply": "2024-04-15T14:33:24.302201Z"
    },
    "papermill": {
     "duration": 0.116967,
     "end_time": "2024-04-15T14:33:24.306630",
     "exception": false,
     "start_time": "2024-04-15T14:33:24.189663",
     "status": "completed"
    },
    "tags": []
   },
   "outputs": [
    {
     "name": "stdout",
     "output_type": "stream",
     "text": [
      "Unique values for country_code in Facebook: ['fr' 'ca' 'au' 'gb' 'us' 'pe' 'de' 'no' 'ae' 'sg' 'nl' 'tr' 'tt' 'nz'\n",
      " 'es' 'ru' 'hk' 'za' 'bd' 'ma' 'my' 'jp' 'kr' 'pl' 'be' 'it' 'ga' 'gr'\n",
      " 'tw' 'ch' 'se' 'cr' 'ro' 'gt' 'in' 'pt' 'ph' 'dk' 'cl' 'mx' 'om' 'bs'\n",
      " 'br' 'ge' 'ec' 'cn' 'qa' 'mz' 'id' 'ie' 'ar' 'pk' 'sa' 'lk' 'at' 'vn'\n",
      " 'co' 'pa' 'sk' 'jo' 'mk' 'ua' 'cz' 'th' 'lu' 'tj' 'fi' 'il' 'li' 'mm'\n",
      " 'kw' 'eg' 'hu' 'mo' 'xk' 'sv' 'bn' 've' 'ba' 'vg' 'hr' 'ee' 'mu' 'kh'\n",
      " 'pr' 'jm' 'zw' 'iq' 'gy' 'bw' 'py' 'by' 'is' 'bg' 'lt' 'bz' 'vi' 'ng'\n",
      " 'lv' 'uy' 'hn' 'bb' 'al' 'pf' 'ao' 'gi' 'rs' 'tg' 'do' 'ni' 're' 'lb'\n",
      " 'uz' 'nc' 'fo' 'gu' 'si' 'md' 'mc' 'ug' 'zm' 'bh' 'np' 'mt' 'bo' 'sn'\n",
      " 'sx' 'kg' 'am' 'ke'] \n",
      "\n",
      "Unique values for country_code in Google: ['au' 'ca' 'us' 'my' 'be' 'fr' 'gb' 'tr' 'id' 'nz' 'in' 'qa' 'de' 'jp'\n",
      " 'hk' 'it' 'za' 'pl' 'ro' 'mx' 'ec' 'ug' 'pr' 'mm' 'ba' 'pk' 'mt' 'br'\n",
      " 'ad' 'lu' 'bb' 'th' 'kr' 'sa' 'sg' 'nl' 'es' 'si' 'jm' 'bd' 'bj' 'lr'\n",
      " 'mq' 'ru' 'tw' 'ke' 'vn' 'ae' 'ie' 'cn' 'al' 'co' 'la' 'dk' 'ua' 'gt'\n",
      " 'pt' 'at' 'ph' 'bg' 'by' 'lk' 'cz' 'ps' 'no' 'hr' 'cr' 'mk' 'sv' 'iq'\n",
      " 'do' 'cu' 'ni' 'et' 'kw' 'hu' 've' 'cl' 'fi' 'kh' 'jo' 'se' 'gr' 'zw'\n",
      " 'md' 'ch' 'bi' 'gn' 'dz' 'gg' 'pe' 'ng' 'gh' 'tn' 'cy' 'eg' 'om' 'ar'\n",
      " 'gy' 'uy' 'tz' 'gl' 'fo' 'lb' 'is' 'lt' 'cw' 'hn' 'sd' 'bo' 'rs' 'bh'\n",
      " 'pg' 'pa' 'ag' 'sk' 'np' 'ma' 'bs' 'ee' 'cm' 'je' 'tt' 'lv' 'vi' 'kg'\n",
      " 'ge' 'ly' 'vu' 'mw' 'py' 'il' 'cv' 'mg' 'me' 'bw' 'rw' 'aw' 'ht' 'mh'\n",
      " 'bm' 'ga' 'sb' 'sn' 'kz' 'sy' 'vc' 'bn' 'bf' 'mz' 'sx' 'mr' 'zm' 'dj'\n",
      " 'ky' 'tj' 'ai' 'mv' 'so' 'lc' 'li' 'mn' 'uz' 'af' 'kn' 'gm' 'fj' 'na'\n",
      " 'ne' 'mc' 'ir' 'am' 'to' 'cd' 'gp' 'xk' 'ml' 'az' 'sc' 'mu' 'ye' 'mo'\n",
      " 'tm' 'tg' 'bz' 'bq' 'ao' 'kp' 'sr' 'tl' 'ws' 'km' 'cf' 'bl' 'sl' 'gi'\n",
      " 'dm' 'nr' 'pf' 'bt' 'gu' 'sz' 'vg' 'gd' 'td' 'ss' 'gf' 'ls' 'as' 'gw'\n",
      " 'im' 'ci'] \n",
      "\n"
     ]
    }
   ],
   "source": [
    "unique_values(facebook_filtered, 'Facebook', 'country_code')\n",
    "unique_values(google_filtered, 'Google', 'country_code')"
   ]
  },
  {
   "cell_type": "markdown",
   "id": "d57efc60",
   "metadata": {
    "papermill": {
     "duration": 0.027703,
     "end_time": "2024-04-15T14:33:24.362413",
     "exception": false,
     "start_time": "2024-04-15T14:33:24.334710",
     "status": "completed"
    },
    "tags": []
   },
   "source": [
    "<a id=\"8\" ></a>\n",
    "## **Reformat phone numbers in Company dataset**"
   ]
  },
  {
   "cell_type": "code",
   "execution_count": 16,
   "id": "ef5f291f",
   "metadata": {
    "execution": {
     "iopub.execute_input": "2024-04-15T14:33:24.420493Z",
     "iopub.status.busy": "2024-04-15T14:33:24.420088Z",
     "iopub.status.idle": "2024-04-15T14:33:24.804432Z",
     "shell.execute_reply": "2024-04-15T14:33:24.803153Z"
    },
    "papermill": {
     "duration": 0.416574,
     "end_time": "2024-04-15T14:33:24.807129",
     "exception": false,
     "start_time": "2024-04-15T14:33:24.390555",
     "status": "completed"
    },
    "tags": []
   },
   "outputs": [
    {
     "name": "stdout",
     "output_type": "stream",
     "text": [
      "No invalid phone numbers found in: Facebook\n",
      "No invalid phone numbers found in: Google\n",
      "Invalid phone numbers found in: Company: 5119\n"
     ]
    }
   ],
   "source": [
    "def check_phone_format(df, df_name, column):\n",
    "    # regex pattern to match phone format: 4.31E+11\n",
    "    pattern = r'^\\d+\\.\\d{2}E\\+\\d{2}$'\n",
    "\n",
    "    invalid_ph = df[df[column].astype(str).str.match(pattern, na = False)]\n",
    "\n",
    "    if len(invalid_ph) > 0:\n",
    "        \n",
    "        print(f\"Invalid phone numbers found in: {df_name}: {len(invalid_ph)}\")\n",
    "    else:\n",
    "        print(f\"No invalid phone numbers found in: {df_name}\")\n",
    "\n",
    "check_phone_format(facebook_filtered, 'Facebook', 'phone')\n",
    "check_phone_format(google_filtered, 'Google', 'phone')\n",
    "check_phone_format(company_filtered, 'Company', 'phone')"
   ]
  },
  {
   "cell_type": "code",
   "execution_count": 17,
   "id": "8eab334d",
   "metadata": {
    "execution": {
     "iopub.execute_input": "2024-04-15T14:33:24.866361Z",
     "iopub.status.busy": "2024-04-15T14:33:24.865872Z",
     "iopub.status.idle": "2024-04-15T14:33:24.872509Z",
     "shell.execute_reply": "2024-04-15T14:33:24.871418Z"
    },
    "papermill": {
     "duration": 0.039274,
     "end_time": "2024-04-15T14:33:24.875410",
     "exception": false,
     "start_time": "2024-04-15T14:33:24.836136",
     "status": "completed"
    },
    "tags": []
   },
   "outputs": [
    {
     "name": "stdout",
     "output_type": "stream",
     "text": [
      "431000000000.0 \n",
      "\n",
      "431000000000 \n",
      "\n",
      "431000000000 \n",
      "\n",
      "<class 'str'>\n"
     ]
    }
   ],
   "source": [
    "float_n = float('4.31E+11')\n",
    "print(float_n, '\\n')\n",
    "\n",
    "int_n = int(float_n)\n",
    "print(int_n, '\\n')\n",
    "\n",
    "str_n = str(int_n)\n",
    "print(str_n, '\\n')\n",
    "print(type(str_n))"
   ]
  },
  {
   "cell_type": "markdown",
   "id": "8106e905",
   "metadata": {
    "papermill": {
     "duration": 0.02818,
     "end_time": "2024-04-15T14:33:24.932114",
     "exception": false,
     "start_time": "2024-04-15T14:33:24.903934",
     "status": "completed"
    },
    "tags": []
   },
   "source": [
    "* Phone numbers with a strange format (for eg. 4.31E+11) in the phone column in the company dataset will be formated thusly: convert column to float to handle scientific notation, then to int, and finally to string (without scientific notation)"
   ]
  },
  {
   "cell_type": "code",
   "execution_count": 18,
   "id": "3d827660",
   "metadata": {
    "execution": {
     "iopub.execute_input": "2024-04-15T14:33:24.990752Z",
     "iopub.status.busy": "2024-04-15T14:33:24.990371Z",
     "iopub.status.idle": "2024-04-15T14:33:25.087486Z",
     "shell.execute_reply": "2024-04-15T14:33:25.086305Z"
    },
    "papermill": {
     "duration": 0.129724,
     "end_time": "2024-04-15T14:33:25.090211",
     "exception": false,
     "start_time": "2024-04-15T14:33:24.960487",
     "status": "completed"
    },
    "tags": []
   },
   "outputs": [
    {
     "name": "stdout",
     "output_type": "stream",
     "text": [
      "No invalid phone numbers found in: Company\n"
     ]
    }
   ],
   "source": [
    "def format_phone(df, column):\n",
    "    # extract the scientific notation numbers (check if the value is a string containing E+)\n",
    "    # convert them to float, then to integers\n",
    "    # format the integers as strings without scientific notation\n",
    "    df[column] = df[column].apply(lambda x: str(int(float(x))) if (isinstance(x, str) and 'E+' in x) else x)\n",
    "    \n",
    "    return df\n",
    "\n",
    "company_filtered = format_phone(company_filtered, 'phone')\n",
    "\n",
    "check_phone_format(company_filtered, 'Company', 'phone')"
   ]
  },
  {
   "cell_type": "code",
   "execution_count": 19,
   "id": "da01419b",
   "metadata": {
    "execution": {
     "iopub.execute_input": "2024-04-15T14:33:25.149509Z",
     "iopub.status.busy": "2024-04-15T14:33:25.149096Z",
     "iopub.status.idle": "2024-04-15T14:33:25.161004Z",
     "shell.execute_reply": "2024-04-15T14:33:25.159833Z"
    },
    "papermill": {
     "duration": 0.044826,
     "end_time": "2024-04-15T14:33:25.163889",
     "exception": false,
     "start_time": "2024-04-15T14:33:25.119063",
     "status": "completed"
    },
    "tags": []
   },
   "outputs": [
    {
     "data": {
      "text/plain": [
       "10647    81120506204\n",
       "56658    17635061000\n",
       "69426    16132580772\n",
       "63243    16472600580\n",
       "61772    81332152111\n",
       "19996            NaN\n",
       "68488    17804444556\n",
       "20878    14165714792\n",
       "67006    12043360801\n",
       "37046            NaN\n",
       "Name: phone, dtype: object"
      ]
     },
     "execution_count": 19,
     "metadata": {},
     "output_type": "execute_result"
    }
   ],
   "source": [
    "facebook_filtered['phone'].sample(10)"
   ]
  },
  {
   "cell_type": "code",
   "execution_count": 20,
   "id": "9639efaa",
   "metadata": {
    "execution": {
     "iopub.execute_input": "2024-04-15T14:33:25.223658Z",
     "iopub.status.busy": "2024-04-15T14:33:25.223271Z",
     "iopub.status.idle": "2024-04-15T14:33:25.243513Z",
     "shell.execute_reply": "2024-04-15T14:33:25.242407Z"
    },
    "papermill": {
     "duration": 0.05307,
     "end_time": "2024-04-15T14:33:25.246004",
     "exception": false,
     "start_time": "2024-04-15T14:33:25.192934",
     "status": "completed"
    },
    "tags": []
   },
   "outputs": [
    {
     "data": {
      "text/plain": [
       "28617      +15197411447\n",
       "74370      +14506564510\n",
       "190645     +18885787275\n",
       "203882     +61295921611\n",
       "325121     +14174254387\n",
       "115562     +16193973778\n",
       "28490      +17144565433\n",
       "331913     +12672220634\n",
       "253482    +393334135995\n",
       "286445     +14795512517\n",
       "Name: phone, dtype: object"
      ]
     },
     "execution_count": 20,
     "metadata": {},
     "output_type": "execute_result"
    }
   ],
   "source": [
    "google_filtered['phone'].sample(10)"
   ]
  },
  {
   "cell_type": "code",
   "execution_count": 21,
   "id": "4a3c099c",
   "metadata": {
    "execution": {
     "iopub.execute_input": "2024-04-15T14:33:25.308568Z",
     "iopub.status.busy": "2024-04-15T14:33:25.308158Z",
     "iopub.status.idle": "2024-04-15T14:33:25.318760Z",
     "shell.execute_reply": "2024-04-15T14:33:25.317635Z"
    },
    "papermill": {
     "duration": 0.044758,
     "end_time": "2024-04-15T14:33:25.321179",
     "exception": false,
     "start_time": "2024-04-15T14:33:25.276421",
     "status": "completed"
    },
    "tags": []
   },
   "outputs": [
    {
     "data": {
      "text/plain": [
       "2551      17805711100\n",
       "63229     16138800880\n",
       "15092     12024822000\n",
       "49315     19054929200\n",
       "63277     14032537454\n",
       "15929     12564893700\n",
       "46836     14167407932\n",
       "51963    611000000000\n",
       "7838      18479997211\n",
       "27191     16474778192\n",
       "Name: phone, dtype: object"
      ]
     },
     "execution_count": 21,
     "metadata": {},
     "output_type": "execute_result"
    }
   ],
   "source": [
    "company_filtered['phone'].sample(10)"
   ]
  },
  {
   "cell_type": "code",
   "execution_count": 22,
   "id": "173451b2",
   "metadata": {
    "execution": {
     "iopub.execute_input": "2024-04-15T14:33:25.381009Z",
     "iopub.status.busy": "2024-04-15T14:33:25.380598Z",
     "iopub.status.idle": "2024-04-15T14:33:25.385471Z",
     "shell.execute_reply": "2024-04-15T14:33:25.384292Z"
    },
    "papermill": {
     "duration": 0.037497,
     "end_time": "2024-04-15T14:33:25.387809",
     "exception": false,
     "start_time": "2024-04-15T14:33:25.350312",
     "status": "completed"
    },
    "tags": []
   },
   "outputs": [],
   "source": [
    "#print(company_filtered['phone'].sample(50))"
   ]
  },
  {
   "cell_type": "markdown",
   "id": "d7b0dabb",
   "metadata": {
    "papermill": {
     "duration": 0.02892,
     "end_time": "2024-04-15T14:33:25.445947",
     "exception": false,
     "start_time": "2024-04-15T14:33:25.417027",
     "status": "completed"
    },
    "tags": []
   },
   "source": [
    "* Given the missing values and my reasoning, the phone number, country, city, category and name columns are the least absent one, which adds up to the assumption that rows are valid if these columns are filled in\n",
    "* Asumming that phone numbers associated with the company names are correct, the final dataset will contain data joined given the phone number; the other columns will be filled in presumably using region/ zip code column/ country code/ city columns"
   ]
  },
  {
   "cell_type": "markdown",
   "id": "ac5250bf",
   "metadata": {
    "papermill": {
     "duration": 0.028866,
     "end_time": "2024-04-15T14:33:25.503784",
     "exception": false,
     "start_time": "2024-04-15T14:33:25.474918",
     "status": "completed"
    },
    "tags": []
   },
   "source": [
    "<a id=\"9\" ></a>\n",
    "## **Dictionary with phone prefix as key and country code and country name as values**"
   ]
  },
  {
   "cell_type": "code",
   "execution_count": 23,
   "id": "20b224a2",
   "metadata": {
    "execution": {
     "iopub.execute_input": "2024-04-15T14:33:25.563375Z",
     "iopub.status.busy": "2024-04-15T14:33:25.562965Z",
     "iopub.status.idle": "2024-04-15T14:34:03.827160Z",
     "shell.execute_reply": "2024-04-15T14:34:03.825785Z"
    },
    "papermill": {
     "duration": 38.297258,
     "end_time": "2024-04-15T14:34:03.829998",
     "exception": false,
     "start_time": "2024-04-15T14:33:25.532740",
     "status": "completed"
    },
    "tags": []
   },
   "outputs": [
    {
     "name": "stdout",
     "output_type": "stream",
     "text": [
      "Collecting phonenumbers\r\n",
      "  Downloading phonenumbers-8.13.34-py2.py3-none-any.whl.metadata (11 kB)\r\n",
      "Downloading phonenumbers-8.13.34-py2.py3-none-any.whl (2.6 MB)\r\n",
      "\u001b[2K   \u001b[90m━━━━━━━━━━━━━━━━━━━━━━━━━━━━━━━━━━━━━━━━\u001b[0m \u001b[32m2.6/2.6 MB\u001b[0m \u001b[31m34.7 MB/s\u001b[0m eta \u001b[36m0:00:00\u001b[0m\r\n",
      "\u001b[?25hInstalling collected packages: phonenumbers\r\n",
      "Successfully installed phonenumbers-8.13.34\r\n",
      "Collecting pycountry\r\n",
      "  Downloading pycountry-23.12.11-py3-none-any.whl.metadata (12 kB)\r\n",
      "Downloading pycountry-23.12.11-py3-none-any.whl (6.2 MB)\r\n",
      "\u001b[2K   \u001b[90m━━━━━━━━━━━━━━━━━━━━━━━━━━━━━━━━━━━━━━━━\u001b[0m \u001b[32m6.2/6.2 MB\u001b[0m \u001b[31m50.3 MB/s\u001b[0m eta \u001b[36m0:00:00\u001b[0m\r\n",
      "\u001b[?25hInstalling collected packages: pycountry\r\n",
      "Successfully installed pycountry-23.12.11\r\n"
     ]
    }
   ],
   "source": [
    "!pip install phonenumbers\n",
    "!pip install pycountry"
   ]
  },
  {
   "cell_type": "code",
   "execution_count": 24,
   "id": "e5a366b7",
   "metadata": {
    "execution": {
     "iopub.execute_input": "2024-04-15T14:34:03.893244Z",
     "iopub.status.busy": "2024-04-15T14:34:03.892795Z",
     "iopub.status.idle": "2024-04-15T14:34:04.098653Z",
     "shell.execute_reply": "2024-04-15T14:34:04.097090Z"
    },
    "papermill": {
     "duration": 0.240811,
     "end_time": "2024-04-15T14:34:04.101148",
     "exception": false,
     "start_time": "2024-04-15T14:34:03.860337",
     "status": "completed"
    },
    "tags": []
   },
   "outputs": [
    {
     "name": "stdout",
     "output_type": "stream",
     "text": [
      "{297: ('aw', 'aruba'), 93: ('af', 'afghanistan'), 244: ('ao', 'angola'), 1: ('vi', 'virgin islands, u.s.'), 358: ('fi', 'finland'), 355: ('al', 'albania'), 376: ('ad', 'andorra'), 971: ('ae', 'united arab emirates'), 54: ('ar', 'argentina'), 374: ('am', 'armenia'), 0: ('um', 'united states minor outlying islands'), 61: ('cx', 'christmas island'), 43: ('at', 'austria'), 994: ('az', 'azerbaijan'), 257: ('bi', 'burundi'), 32: ('be', 'belgium'), 229: ('bj', 'benin'), 599: ('cw', 'curaçao'), 226: ('bf', 'burkina faso'), 880: ('bd', 'bangladesh'), 359: ('bg', 'bulgaria'), 973: ('bh', 'bahrain'), 387: ('ba', 'bosnia and herzegovina'), 590: ('mf', 'saint martin (french part)'), 375: ('by', 'belarus'), 501: ('bz', 'belize'), 591: ('bo', 'bolivia, plurinational state of'), 55: ('br', 'brazil'), 673: ('bn', 'brunei darussalam'), 975: ('bt', 'bhutan'), 267: ('bw', 'botswana'), 236: ('cf', 'central african republic'), 41: ('ch', 'switzerland'), 56: ('cl', 'chile'), 86: ('cn', 'china'), 225: ('ci', \"côte d'ivoire\"), 237: ('cm', 'cameroon'), 243: ('cd', 'congo, the democratic republic of the'), 242: ('cg', 'congo'), 682: ('ck', 'cook islands'), 57: ('co', 'colombia'), 269: ('km', 'comoros'), 238: ('cv', 'cabo verde'), 506: ('cr', 'costa rica'), 53: ('cu', 'cuba'), 357: ('cy', 'cyprus'), 420: ('cz', 'czechia'), 49: ('de', 'germany'), 253: ('dj', 'djibouti'), 45: ('dk', 'denmark'), 213: ('dz', 'algeria'), 593: ('ec', 'ecuador'), 20: ('eg', 'egypt'), 291: ('er', 'eritrea'), 212: ('ma', 'morocco'), 34: ('es', 'spain'), 372: ('ee', 'estonia'), 251: ('et', 'ethiopia'), 679: ('fj', 'fiji'), 500: ('fk', 'falkland islands (malvinas)'), 33: ('fr', 'france'), 298: ('fo', 'faroe islands'), 691: ('fm', 'micronesia, federated states of'), 241: ('ga', 'gabon'), 44: ('je', 'jersey'), 995: ('ge', 'georgia'), 233: ('gh', 'ghana'), 350: ('gi', 'gibraltar'), 224: ('gn', 'guinea'), 220: ('gm', 'gambia'), 245: ('gw', 'guinea-bissau'), 240: ('gq', 'equatorial guinea'), 30: ('gr', 'greece'), 299: ('gl', 'greenland'), 502: ('gt', 'guatemala'), 594: ('gf', 'french guiana'), 592: ('gy', 'guyana'), 852: ('hk', 'hong kong'), 504: ('hn', 'honduras'), 385: ('hr', 'croatia'), 509: ('ht', 'haiti'), 36: ('hu', 'hungary'), 62: ('id', 'indonesia'), 91: ('in', 'india'), 246: ('io', 'british indian ocean territory'), 353: ('ie', 'ireland'), 98: ('ir', 'iran, islamic republic of'), 964: ('iq', 'iraq'), 354: ('is', 'iceland'), 972: ('il', 'israel'), 39: ('va', 'holy see (vatican city state)'), 962: ('jo', 'jordan'), 81: ('jp', 'japan'), 7: ('ru', 'russian federation'), 254: ('ke', 'kenya'), 996: ('kg', 'kyrgyzstan'), 855: ('kh', 'cambodia'), 686: ('ki', 'kiribati'), 82: ('kr', 'korea, republic of'), 965: ('kw', 'kuwait'), 856: ('la', \"lao people's democratic republic\"), 961: ('lb', 'lebanon'), 231: ('lr', 'liberia'), 218: ('ly', 'libya'), 423: ('li', 'liechtenstein'), 94: ('lk', 'sri lanka'), 266: ('ls', 'lesotho'), 370: ('lt', 'lithuania'), 352: ('lu', 'luxembourg'), 371: ('lv', 'latvia'), 853: ('mo', 'macao'), 377: ('mc', 'monaco'), 373: ('md', 'moldova, republic of'), 261: ('mg', 'madagascar'), 960: ('mv', 'maldives'), 52: ('mx', 'mexico'), 692: ('mh', 'marshall islands'), 389: ('mk', 'north macedonia'), 223: ('ml', 'mali'), 356: ('mt', 'malta'), 95: ('mm', 'myanmar'), 382: ('me', 'montenegro'), 976: ('mn', 'mongolia'), 258: ('mz', 'mozambique'), 222: ('mr', 'mauritania'), 596: ('mq', 'martinique'), 230: ('mu', 'mauritius'), 265: ('mw', 'malawi'), 60: ('my', 'malaysia'), 262: ('re', 'réunion'), 264: ('na', 'namibia'), 687: ('nc', 'new caledonia'), 227: ('ne', 'niger'), 672: ('nf', 'norfolk island'), 234: ('ng', 'nigeria'), 505: ('ni', 'nicaragua'), 683: ('nu', 'niue'), 31: ('nl', 'netherlands'), 47: ('sj', 'svalbard and jan mayen'), 977: ('np', 'nepal'), 674: ('nr', 'nauru'), 64: ('nz', 'new zealand'), 968: ('om', 'oman'), 92: ('pk', 'pakistan'), 507: ('pa', 'panama'), 51: ('pe', 'peru'), 63: ('ph', 'philippines'), 680: ('pw', 'palau'), 675: ('pg', 'papua new guinea'), 48: ('pl', 'poland'), 850: ('kp', \"korea, democratic people's republic of\"), 351: ('pt', 'portugal'), 595: ('py', 'paraguay'), 970: ('ps', 'palestine, state of'), 689: ('pf', 'french polynesia'), 974: ('qa', 'qatar'), 40: ('ro', 'romania'), 250: ('rw', 'rwanda'), 966: ('sa', 'saudi arabia'), 249: ('sd', 'sudan'), 221: ('sn', 'senegal'), 65: ('sg', 'singapore'), 290: ('sh', 'saint helena, ascension and tristan da cunha'), 677: ('sb', 'solomon islands'), 232: ('sl', 'sierra leone'), 503: ('sv', 'el salvador'), 378: ('sm', 'san marino'), 252: ('so', 'somalia'), 508: ('pm', 'saint pierre and miquelon'), 381: ('rs', 'serbia'), 211: ('ss', 'south sudan'), 239: ('st', 'sao tome and principe'), 597: ('sr', 'suriname'), 421: ('sk', 'slovakia'), 386: ('si', 'slovenia'), 46: ('se', 'sweden'), 268: ('sz', 'eswatini'), 248: ('sc', 'seychelles'), 963: ('sy', 'syrian arab republic'), 235: ('td', 'chad'), 228: ('tg', 'togo'), 66: ('th', 'thailand'), 992: ('tj', 'tajikistan'), 690: ('tk', 'tokelau'), 993: ('tm', 'turkmenistan'), 670: ('tl', 'timor-leste'), 676: ('to', 'tonga'), 216: ('tn', 'tunisia'), 90: ('tr', 'türkiye'), 688: ('tv', 'tuvalu'), 886: ('tw', 'taiwan, province of china'), 255: ('tz', 'tanzania, united republic of'), 256: ('ug', 'uganda'), 380: ('ua', 'ukraine'), 598: ('uy', 'uruguay'), 998: ('uz', 'uzbekistan'), 58: ('ve', 'venezuela, bolivarian republic of'), 84: ('vn', 'viet nam'), 678: ('vu', 'vanuatu'), 681: ('wf', 'wallis and futuna'), 685: ('ws', 'samoa'), 967: ('ye', 'yemen'), 27: ('za', 'south africa'), 260: ('zm', 'zambia'), 263: ('zw', 'zimbabwe')}\n"
     ]
    }
   ],
   "source": [
    "# dictionary with phone prefix as key and country code and country name as values\n",
    "\n",
    "import phonenumbers\n",
    "import phonenumbers as pn\n",
    "import pycountry\n",
    "\n",
    "phone_dict = {\n",
    "    pn.country_code_for_region(c.alpha_2): (c.alpha_2.lower(), c.name.lower())\n",
    "    for c in pycountry.countries\n",
    "}\n",
    "\n",
    "# dictionary with country code as key and phone prefix as value\n",
    "# ph_dict = {c.alpha_2: pn.country_code_for_region(c.alpha_2) for c in pycountry.countries}\n",
    "# phone_dict = {key.lower(): value for key, value in ph_dict.items()}\n",
    "\n",
    "print(phone_dict)"
   ]
  },
  {
   "cell_type": "code",
   "execution_count": 25,
   "id": "923af8ad",
   "metadata": {
    "execution": {
     "iopub.execute_input": "2024-04-15T14:34:04.166185Z",
     "iopub.status.busy": "2024-04-15T14:34:04.165763Z",
     "iopub.status.idle": "2024-04-15T14:34:04.170891Z",
     "shell.execute_reply": "2024-04-15T14:34:04.169713Z"
    },
    "papermill": {
     "duration": 0.040559,
     "end_time": "2024-04-15T14:34:04.173108",
     "exception": false,
     "start_time": "2024-04-15T14:34:04.132549",
     "status": "completed"
    },
    "tags": []
   },
   "outputs": [],
   "source": [
    "#facebook_filtered['category'].sample(10)"
   ]
  },
  {
   "cell_type": "markdown",
   "id": "055d1964",
   "metadata": {
    "papermill": {
     "duration": 0.030196,
     "end_time": "2024-04-15T14:34:04.234633",
     "exception": false,
     "start_time": "2024-04-15T14:34:04.204437",
     "status": "completed"
    },
    "tags": []
   },
   "source": [
    "<a id=\"10\" ></a>\n",
    "## **Missing name column in Google dataset**"
   ]
  },
  {
   "cell_type": "code",
   "execution_count": 26,
   "id": "5cf74f6b",
   "metadata": {
    "execution": {
     "iopub.execute_input": "2024-04-15T14:34:04.298592Z",
     "iopub.status.busy": "2024-04-15T14:34:04.297878Z",
     "iopub.status.idle": "2024-04-15T14:34:04.382519Z",
     "shell.execute_reply": "2024-04-15T14:34:04.381251Z"
    },
    "papermill": {
     "duration": 0.119396,
     "end_time": "2024-04-15T14:34:04.385411",
     "exception": false,
     "start_time": "2024-04-15T14:34:04.266015",
     "status": "completed"
    },
    "tags": []
   },
   "outputs": [
    {
     "data": {
      "text/html": [
       "<div>\n",
       "<style scoped>\n",
       "    .dataframe tbody tr th:only-of-type {\n",
       "        vertical-align: middle;\n",
       "    }\n",
       "\n",
       "    .dataframe tbody tr th {\n",
       "        vertical-align: top;\n",
       "    }\n",
       "\n",
       "    .dataframe thead th {\n",
       "        text-align: right;\n",
       "    }\n",
       "</style>\n",
       "<table border=\"1\" class=\"dataframe\">\n",
       "  <thead>\n",
       "    <tr style=\"text-align: right;\">\n",
       "      <th></th>\n",
       "      <th>name</th>\n",
       "      <th>category</th>\n",
       "      <th>country</th>\n",
       "      <th>country_code</th>\n",
       "      <th>region</th>\n",
       "      <th>city</th>\n",
       "      <th>zip_code</th>\n",
       "      <th>phone</th>\n",
       "      <th>address</th>\n",
       "    </tr>\n",
       "  </thead>\n",
       "  <tbody>\n",
       "    <tr>\n",
       "      <th>5954</th>\n",
       "      <td>NaN</td>\n",
       "      <td>Executive, Legislative &amp; Government Institutions</td>\n",
       "      <td>NaN</td>\n",
       "      <td>us</td>\n",
       "      <td>NaN</td>\n",
       "      <td>NaN</td>\n",
       "      <td>NaN</td>\n",
       "      <td>NaN</td>\n",
       "      <td>NaN</td>\n",
       "    </tr>\n",
       "    <tr>\n",
       "      <th>34448</th>\n",
       "      <td>NaN</td>\n",
       "      <td>NaN</td>\n",
       "      <td>NaN</td>\n",
       "      <td>NaN</td>\n",
       "      <td>NaN</td>\n",
       "      <td>NaN</td>\n",
       "      <td>NaN</td>\n",
       "      <td>NaN</td>\n",
       "      <td>NaN</td>\n",
       "    </tr>\n",
       "    <tr>\n",
       "      <th>38876</th>\n",
       "      <td>NaN</td>\n",
       "      <td>NaN</td>\n",
       "      <td>NaN</td>\n",
       "      <td>NaN</td>\n",
       "      <td>NaN</td>\n",
       "      <td>NaN</td>\n",
       "      <td>NaN</td>\n",
       "      <td>NaN</td>\n",
       "      <td>NaN</td>\n",
       "    </tr>\n",
       "    <tr>\n",
       "      <th>64759</th>\n",
       "      <td>NaN</td>\n",
       "      <td>NaN</td>\n",
       "      <td>NaN</td>\n",
       "      <td>NaN</td>\n",
       "      <td>NaN</td>\n",
       "      <td>NaN</td>\n",
       "      <td>NaN</td>\n",
       "      <td>NaN</td>\n",
       "      <td>NaN</td>\n",
       "    </tr>\n",
       "    <tr>\n",
       "      <th>75503</th>\n",
       "      <td>NaN</td>\n",
       "      <td>Middle Schools</td>\n",
       "      <td>NaN</td>\n",
       "      <td>us</td>\n",
       "      <td>NaN</td>\n",
       "      <td>NaN</td>\n",
       "      <td>NaN</td>\n",
       "      <td>NaN</td>\n",
       "      <td>NaN</td>\n",
       "    </tr>\n",
       "    <tr>\n",
       "      <th>83092</th>\n",
       "      <td>NaN</td>\n",
       "      <td>NaN</td>\n",
       "      <td>NaN</td>\n",
       "      <td>NaN</td>\n",
       "      <td>NaN</td>\n",
       "      <td>NaN</td>\n",
       "      <td>NaN</td>\n",
       "      <td>NaN</td>\n",
       "      <td>NaN</td>\n",
       "    </tr>\n",
       "    <tr>\n",
       "      <th>107259</th>\n",
       "      <td>NaN</td>\n",
       "      <td>Nursing &amp; Personal Care</td>\n",
       "      <td>NaN</td>\n",
       "      <td>NaN</td>\n",
       "      <td>NaN</td>\n",
       "      <td>NaN</td>\n",
       "      <td>NaN</td>\n",
       "      <td>NaN</td>\n",
       "      <td>NaN</td>\n",
       "    </tr>\n",
       "    <tr>\n",
       "      <th>124349</th>\n",
       "      <td>NaN</td>\n",
       "      <td>NaN</td>\n",
       "      <td>NaN</td>\n",
       "      <td>NaN</td>\n",
       "      <td>NaN</td>\n",
       "      <td>NaN</td>\n",
       "      <td>NaN</td>\n",
       "      <td>NaN</td>\n",
       "      <td>NaN</td>\n",
       "    </tr>\n",
       "    <tr>\n",
       "      <th>130452</th>\n",
       "      <td>NaN</td>\n",
       "      <td>NaN</td>\n",
       "      <td>NaN</td>\n",
       "      <td>NaN</td>\n",
       "      <td>NaN</td>\n",
       "      <td>NaN</td>\n",
       "      <td>NaN</td>\n",
       "      <td>NaN</td>\n",
       "      <td>NaN</td>\n",
       "    </tr>\n",
       "    <tr>\n",
       "      <th>138208</th>\n",
       "      <td>NaN</td>\n",
       "      <td>NaN</td>\n",
       "      <td>NaN</td>\n",
       "      <td>NaN</td>\n",
       "      <td>NaN</td>\n",
       "      <td>NaN</td>\n",
       "      <td>NaN</td>\n",
       "      <td>NaN</td>\n",
       "      <td>NaN</td>\n",
       "    </tr>\n",
       "    <tr>\n",
       "      <th>155936</th>\n",
       "      <td>NaN</td>\n",
       "      <td>NaN</td>\n",
       "      <td>NaN</td>\n",
       "      <td>NaN</td>\n",
       "      <td>NaN</td>\n",
       "      <td>NaN</td>\n",
       "      <td>NaN</td>\n",
       "      <td>NaN</td>\n",
       "      <td>NaN</td>\n",
       "    </tr>\n",
       "    <tr>\n",
       "      <th>169306</th>\n",
       "      <td>NaN</td>\n",
       "      <td>NaN</td>\n",
       "      <td>NaN</td>\n",
       "      <td>NaN</td>\n",
       "      <td>NaN</td>\n",
       "      <td>NaN</td>\n",
       "      <td>NaN</td>\n",
       "      <td>NaN</td>\n",
       "      <td>NaN</td>\n",
       "    </tr>\n",
       "    <tr>\n",
       "      <th>191779</th>\n",
       "      <td>NaN</td>\n",
       "      <td>NaN</td>\n",
       "      <td>NaN</td>\n",
       "      <td>NaN</td>\n",
       "      <td>NaN</td>\n",
       "      <td>NaN</td>\n",
       "      <td>NaN</td>\n",
       "      <td>NaN</td>\n",
       "      <td>NaN</td>\n",
       "    </tr>\n",
       "    <tr>\n",
       "      <th>196959</th>\n",
       "      <td>NaN</td>\n",
       "      <td>Employment Agencies &amp; HR Consulting</td>\n",
       "      <td>NaN</td>\n",
       "      <td>us</td>\n",
       "      <td>NaN</td>\n",
       "      <td>NaN</td>\n",
       "      <td>NaN</td>\n",
       "      <td>NaN</td>\n",
       "      <td>NaN</td>\n",
       "    </tr>\n",
       "    <tr>\n",
       "      <th>198835</th>\n",
       "      <td>NaN</td>\n",
       "      <td>NaN</td>\n",
       "      <td>NaN</td>\n",
       "      <td>NaN</td>\n",
       "      <td>NaN</td>\n",
       "      <td>NaN</td>\n",
       "      <td>NaN</td>\n",
       "      <td>NaN</td>\n",
       "      <td>NaN</td>\n",
       "    </tr>\n",
       "    <tr>\n",
       "      <th>208743</th>\n",
       "      <td>NaN</td>\n",
       "      <td>NaN</td>\n",
       "      <td>NaN</td>\n",
       "      <td>NaN</td>\n",
       "      <td>NaN</td>\n",
       "      <td>NaN</td>\n",
       "      <td>NaN</td>\n",
       "      <td>NaN</td>\n",
       "      <td>NaN</td>\n",
       "    </tr>\n",
       "    <tr>\n",
       "      <th>210852</th>\n",
       "      <td>NaN</td>\n",
       "      <td>Heating &amp; Air Conditioning</td>\n",
       "      <td>canada</td>\n",
       "      <td>ca</td>\n",
       "      <td>ontario</td>\n",
       "      <td>arnprior</td>\n",
       "      <td>k7s 2n5</td>\n",
       "      <td>+16136232665</td>\n",
       "      <td>111 John St N, Arnprior, ON K7S 2N5, Canada</td>\n",
       "    </tr>\n",
       "    <tr>\n",
       "      <th>219700</th>\n",
       "      <td>NaN</td>\n",
       "      <td>NaN</td>\n",
       "      <td>NaN</td>\n",
       "      <td>us</td>\n",
       "      <td>NaN</td>\n",
       "      <td>NaN</td>\n",
       "      <td>NaN</td>\n",
       "      <td>NaN</td>\n",
       "      <td>NaN</td>\n",
       "    </tr>\n",
       "    <tr>\n",
       "      <th>239997</th>\n",
       "      <td>NaN</td>\n",
       "      <td>NaN</td>\n",
       "      <td>NaN</td>\n",
       "      <td>NaN</td>\n",
       "      <td>NaN</td>\n",
       "      <td>NaN</td>\n",
       "      <td>NaN</td>\n",
       "      <td>NaN</td>\n",
       "      <td>NaN</td>\n",
       "    </tr>\n",
       "    <tr>\n",
       "      <th>241880</th>\n",
       "      <td>NaN</td>\n",
       "      <td>Market Research &amp; Opinion Polling</td>\n",
       "      <td>NaN</td>\n",
       "      <td>us</td>\n",
       "      <td>NaN</td>\n",
       "      <td>NaN</td>\n",
       "      <td>NaN</td>\n",
       "      <td>NaN</td>\n",
       "      <td>NaN</td>\n",
       "    </tr>\n",
       "    <tr>\n",
       "      <th>242094</th>\n",
       "      <td>NaN</td>\n",
       "      <td>NaN</td>\n",
       "      <td>NaN</td>\n",
       "      <td>NaN</td>\n",
       "      <td>NaN</td>\n",
       "      <td>NaN</td>\n",
       "      <td>NaN</td>\n",
       "      <td>NaN</td>\n",
       "      <td>NaN</td>\n",
       "    </tr>\n",
       "    <tr>\n",
       "      <th>246051</th>\n",
       "      <td>NaN</td>\n",
       "      <td>Executive, Legislative &amp; Government Institutions</td>\n",
       "      <td>NaN</td>\n",
       "      <td>us</td>\n",
       "      <td>NaN</td>\n",
       "      <td>NaN</td>\n",
       "      <td>NaN</td>\n",
       "      <td>NaN</td>\n",
       "      <td>NaN</td>\n",
       "    </tr>\n",
       "    <tr>\n",
       "      <th>255963</th>\n",
       "      <td>NaN</td>\n",
       "      <td>Nursing &amp; Personal Care</td>\n",
       "      <td>NaN</td>\n",
       "      <td>us</td>\n",
       "      <td>NaN</td>\n",
       "      <td>NaN</td>\n",
       "      <td>NaN</td>\n",
       "      <td>NaN</td>\n",
       "      <td>NaN</td>\n",
       "    </tr>\n",
       "    <tr>\n",
       "      <th>260853</th>\n",
       "      <td>NaN</td>\n",
       "      <td>NaN</td>\n",
       "      <td>NaN</td>\n",
       "      <td>NaN</td>\n",
       "      <td>NaN</td>\n",
       "      <td>NaN</td>\n",
       "      <td>NaN</td>\n",
       "      <td>NaN</td>\n",
       "      <td>NaN</td>\n",
       "    </tr>\n",
       "    <tr>\n",
       "      <th>278836</th>\n",
       "      <td>NaN</td>\n",
       "      <td>Executive, Legislative &amp; Government Institutions</td>\n",
       "      <td>NaN</td>\n",
       "      <td>NaN</td>\n",
       "      <td>NaN</td>\n",
       "      <td>NaN</td>\n",
       "      <td>NaN</td>\n",
       "      <td>NaN</td>\n",
       "      <td>NaN</td>\n",
       "    </tr>\n",
       "    <tr>\n",
       "      <th>280488</th>\n",
       "      <td>NaN</td>\n",
       "      <td>Sports &amp; Leisure - Clubs, Fields &amp; Pitches</td>\n",
       "      <td>NaN</td>\n",
       "      <td>NaN</td>\n",
       "      <td>NaN</td>\n",
       "      <td>NaN</td>\n",
       "      <td>NaN</td>\n",
       "      <td>NaN</td>\n",
       "      <td>NaN</td>\n",
       "    </tr>\n",
       "    <tr>\n",
       "      <th>283904</th>\n",
       "      <td>NaN</td>\n",
       "      <td>Executive, Legislative &amp; Government Institutions</td>\n",
       "      <td>NaN</td>\n",
       "      <td>NaN</td>\n",
       "      <td>NaN</td>\n",
       "      <td>NaN</td>\n",
       "      <td>NaN</td>\n",
       "      <td>NaN</td>\n",
       "      <td>NaN</td>\n",
       "    </tr>\n",
       "    <tr>\n",
       "      <th>292368</th>\n",
       "      <td>NaN</td>\n",
       "      <td>Clinics - Surgeons &amp; Physicians</td>\n",
       "      <td>united states</td>\n",
       "      <td>NaN</td>\n",
       "      <td>texas</td>\n",
       "      <td>fort worth</td>\n",
       "      <td>76102</td>\n",
       "      <td>+18178828700</td>\n",
       "      <td>2500 West Fwy, Fort Worth, TX 76102</td>\n",
       "    </tr>\n",
       "    <tr>\n",
       "      <th>308208</th>\n",
       "      <td>NaN</td>\n",
       "      <td>NaN</td>\n",
       "      <td>NaN</td>\n",
       "      <td>NaN</td>\n",
       "      <td>NaN</td>\n",
       "      <td>NaN</td>\n",
       "      <td>NaN</td>\n",
       "      <td>NaN</td>\n",
       "      <td>NaN</td>\n",
       "    </tr>\n",
       "    <tr>\n",
       "      <th>321089</th>\n",
       "      <td>NaN</td>\n",
       "      <td>Paints, Coatings, Dyes &amp; Pigments</td>\n",
       "      <td>NaN</td>\n",
       "      <td>NaN</td>\n",
       "      <td>NaN</td>\n",
       "      <td>NaN</td>\n",
       "      <td>NaN</td>\n",
       "      <td>NaN</td>\n",
       "      <td>NaN</td>\n",
       "    </tr>\n",
       "    <tr>\n",
       "      <th>342645</th>\n",
       "      <td>NaN</td>\n",
       "      <td>NaN</td>\n",
       "      <td>NaN</td>\n",
       "      <td>NaN</td>\n",
       "      <td>NaN</td>\n",
       "      <td>NaN</td>\n",
       "      <td>NaN</td>\n",
       "      <td>NaN</td>\n",
       "      <td>NaN</td>\n",
       "    </tr>\n",
       "    <tr>\n",
       "      <th>342715</th>\n",
       "      <td>NaN</td>\n",
       "      <td>NaN</td>\n",
       "      <td>NaN</td>\n",
       "      <td>NaN</td>\n",
       "      <td>NaN</td>\n",
       "      <td>NaN</td>\n",
       "      <td>NaN</td>\n",
       "      <td>NaN</td>\n",
       "      <td>NaN</td>\n",
       "    </tr>\n",
       "  </tbody>\n",
       "</table>\n",
       "</div>"
      ],
      "text/plain": [
       "       name                                          category        country  \\\n",
       "5954    NaN  Executive, Legislative & Government Institutions            NaN   \n",
       "34448   NaN                                               NaN            NaN   \n",
       "38876   NaN                                               NaN            NaN   \n",
       "64759   NaN                                               NaN            NaN   \n",
       "75503   NaN                                    Middle Schools            NaN   \n",
       "83092   NaN                                               NaN            NaN   \n",
       "107259  NaN                           Nursing & Personal Care            NaN   \n",
       "124349  NaN                                               NaN            NaN   \n",
       "130452  NaN                                               NaN            NaN   \n",
       "138208  NaN                                               NaN            NaN   \n",
       "155936  NaN                                               NaN            NaN   \n",
       "169306  NaN                                               NaN            NaN   \n",
       "191779  NaN                                               NaN            NaN   \n",
       "196959  NaN               Employment Agencies & HR Consulting            NaN   \n",
       "198835  NaN                                               NaN            NaN   \n",
       "208743  NaN                                               NaN            NaN   \n",
       "210852  NaN                        Heating & Air Conditioning         canada   \n",
       "219700  NaN                                               NaN            NaN   \n",
       "239997  NaN                                               NaN            NaN   \n",
       "241880  NaN                 Market Research & Opinion Polling            NaN   \n",
       "242094  NaN                                               NaN            NaN   \n",
       "246051  NaN  Executive, Legislative & Government Institutions            NaN   \n",
       "255963  NaN                           Nursing & Personal Care            NaN   \n",
       "260853  NaN                                               NaN            NaN   \n",
       "278836  NaN  Executive, Legislative & Government Institutions            NaN   \n",
       "280488  NaN        Sports & Leisure - Clubs, Fields & Pitches            NaN   \n",
       "283904  NaN  Executive, Legislative & Government Institutions            NaN   \n",
       "292368  NaN                   Clinics - Surgeons & Physicians  united states   \n",
       "308208  NaN                                               NaN            NaN   \n",
       "321089  NaN                 Paints, Coatings, Dyes & Pigments            NaN   \n",
       "342645  NaN                                               NaN            NaN   \n",
       "342715  NaN                                               NaN            NaN   \n",
       "\n",
       "       country_code   region        city zip_code         phone  \\\n",
       "5954             us      NaN         NaN      NaN           NaN   \n",
       "34448           NaN      NaN         NaN      NaN           NaN   \n",
       "38876           NaN      NaN         NaN      NaN           NaN   \n",
       "64759           NaN      NaN         NaN      NaN           NaN   \n",
       "75503            us      NaN         NaN      NaN           NaN   \n",
       "83092           NaN      NaN         NaN      NaN           NaN   \n",
       "107259          NaN      NaN         NaN      NaN           NaN   \n",
       "124349          NaN      NaN         NaN      NaN           NaN   \n",
       "130452          NaN      NaN         NaN      NaN           NaN   \n",
       "138208          NaN      NaN         NaN      NaN           NaN   \n",
       "155936          NaN      NaN         NaN      NaN           NaN   \n",
       "169306          NaN      NaN         NaN      NaN           NaN   \n",
       "191779          NaN      NaN         NaN      NaN           NaN   \n",
       "196959           us      NaN         NaN      NaN           NaN   \n",
       "198835          NaN      NaN         NaN      NaN           NaN   \n",
       "208743          NaN      NaN         NaN      NaN           NaN   \n",
       "210852           ca  ontario    arnprior  k7s 2n5  +16136232665   \n",
       "219700           us      NaN         NaN      NaN           NaN   \n",
       "239997          NaN      NaN         NaN      NaN           NaN   \n",
       "241880           us      NaN         NaN      NaN           NaN   \n",
       "242094          NaN      NaN         NaN      NaN           NaN   \n",
       "246051           us      NaN         NaN      NaN           NaN   \n",
       "255963           us      NaN         NaN      NaN           NaN   \n",
       "260853          NaN      NaN         NaN      NaN           NaN   \n",
       "278836          NaN      NaN         NaN      NaN           NaN   \n",
       "280488          NaN      NaN         NaN      NaN           NaN   \n",
       "283904          NaN      NaN         NaN      NaN           NaN   \n",
       "292368          NaN    texas  fort worth    76102  +18178828700   \n",
       "308208          NaN      NaN         NaN      NaN           NaN   \n",
       "321089          NaN      NaN         NaN      NaN           NaN   \n",
       "342645          NaN      NaN         NaN      NaN           NaN   \n",
       "342715          NaN      NaN         NaN      NaN           NaN   \n",
       "\n",
       "                                            address  \n",
       "5954                                            NaN  \n",
       "34448                                           NaN  \n",
       "38876                                           NaN  \n",
       "64759                                           NaN  \n",
       "75503                                           NaN  \n",
       "83092                                           NaN  \n",
       "107259                                          NaN  \n",
       "124349                                          NaN  \n",
       "130452                                          NaN  \n",
       "138208                                          NaN  \n",
       "155936                                          NaN  \n",
       "169306                                          NaN  \n",
       "191779                                          NaN  \n",
       "196959                                          NaN  \n",
       "198835                                          NaN  \n",
       "208743                                          NaN  \n",
       "210852  111 John St N, Arnprior, ON K7S 2N5, Canada  \n",
       "219700                                          NaN  \n",
       "239997                                          NaN  \n",
       "241880                                          NaN  \n",
       "242094                                          NaN  \n",
       "246051                                          NaN  \n",
       "255963                                          NaN  \n",
       "260853                                          NaN  \n",
       "278836                                          NaN  \n",
       "280488                                          NaN  \n",
       "283904                                          NaN  \n",
       "292368          2500 West Fwy, Fort Worth, TX 76102  \n",
       "308208                                          NaN  \n",
       "321089                                          NaN  \n",
       "342645                                          NaN  \n",
       "342715                                          NaN  "
      ]
     },
     "execution_count": 26,
     "metadata": {},
     "output_type": "execute_result"
    }
   ],
   "source": [
    "# print columns in google dataset where name is missing\n",
    "missing_name_rows = google_filtered[google_filtered['name'].isna()]\n",
    "missing_name_rows"
   ]
  },
  {
   "cell_type": "markdown",
   "id": "53ded6b3",
   "metadata": {
    "papermill": {
     "duration": 0.031174,
     "end_time": "2024-04-15T14:34:04.448745",
     "exception": false,
     "start_time": "2024-04-15T14:34:04.417571",
     "status": "completed"
    },
    "tags": []
   },
   "source": [
    "<a id=\"11\" ></a>\n",
    "## **Delete rows where all other columns are empty except for name and category across all datasets**\n"
   ]
  },
  {
   "cell_type": "code",
   "execution_count": 27,
   "id": "91a0d02b",
   "metadata": {
    "execution": {
     "iopub.execute_input": "2024-04-15T14:34:04.513685Z",
     "iopub.status.busy": "2024-04-15T14:34:04.513263Z",
     "iopub.status.idle": "2024-04-15T14:34:05.213410Z",
     "shell.execute_reply": "2024-04-15T14:34:05.212179Z"
    },
    "papermill": {
     "duration": 0.736074,
     "end_time": "2024-04-15T14:34:05.216129",
     "exception": false,
     "start_time": "2024-04-15T14:34:04.480055",
     "status": "completed"
    },
    "tags": []
   },
   "outputs": [
    {
     "name": "stdout",
     "output_type": "stream",
     "text": [
      "(65303, 9)\n",
      "(344036, 9)\n",
      "(64827, 6)\n"
     ]
    }
   ],
   "source": [
    "# delete rows where all other columns are empty except for name and category in the datasets\n",
    "conditions = (facebook_filtered['name'].notna()) & (facebook_filtered['category'].notna()) & (facebook_filtered.drop(['name', 'category'], axis = 1).isna().all(axis = 1))\n",
    "\n",
    "facebook_filtered = facebook_filtered[~ conditions] # select the rows that do not meet the requirement \n",
    "\n",
    "\n",
    "conditions = (google_filtered['name'].notna()) & (google_filtered['category'].notna()) & (google_filtered.drop(['name', 'category'], axis = 1).isna().all(axis = 1))\n",
    "\n",
    "google_filtered = google_filtered[~ conditions] \n",
    "\n",
    "\n",
    "conditions = (company_filtered['name'].notna()) & (company_filtered['category'].notna()) & (company_filtered.drop(['name', 'category'], axis = 1).isna().all(axis = 1))\n",
    "\n",
    "company_filtered = company_filtered[~ conditions] \n",
    "\n",
    "print(facebook_filtered.shape)\n",
    "print(google_filtered.shape)\n",
    "print(company_filtered.shape)"
   ]
  },
  {
   "cell_type": "markdown",
   "id": "ddb0c1d7",
   "metadata": {
    "papermill": {
     "duration": 0.031517,
     "end_time": "2024-04-15T14:34:05.279155",
     "exception": false,
     "start_time": "2024-04-15T14:34:05.247638",
     "status": "completed"
    },
    "tags": []
   },
   "source": [
    "* Now, all the data has name, category and at least one other column not empty. \n",
    "* But if the columns country/country code together with the phone are not provided, then it wouldn't make sense to keep those rows since we don't have information to access to get further interested in contacting the company.\n",
    "* If the phone number is provided, country/country code will be filled in based on the phone_dict dictionary defined above."
   ]
  },
  {
   "cell_type": "markdown",
   "id": "a5fd3719",
   "metadata": {
    "papermill": {
     "duration": 0.031075,
     "end_time": "2024-04-15T14:34:05.341773",
     "exception": false,
     "start_time": "2024-04-15T14:34:05.310698",
     "status": "completed"
    },
    "tags": []
   },
   "source": [
    "<a id=\"12\" ></a>\n",
    "## **Add '+' at the beginning of the phone number and set it as NaN if it's not valid**"
   ]
  },
  {
   "cell_type": "markdown",
   "id": "c1ca7c3a",
   "metadata": {
    "papermill": {
     "duration": 0.031068,
     "end_time": "2024-04-15T14:34:05.404115",
     "exception": false,
     "start_time": "2024-04-15T14:34:05.373047",
     "status": "completed"
    },
    "tags": []
   },
   "source": [
    "* In case there are other values in the phone column other than actual phone numbers."
   ]
  },
  {
   "cell_type": "code",
   "execution_count": 28,
   "id": "d00da3b9",
   "metadata": {
    "execution": {
     "iopub.execute_input": "2024-04-15T14:34:05.469696Z",
     "iopub.status.busy": "2024-04-15T14:34:05.468959Z",
     "iopub.status.idle": "2024-04-15T14:34:05.753006Z",
     "shell.execute_reply": "2024-04-15T14:34:05.751943Z"
    },
    "papermill": {
     "duration": 0.319582,
     "end_time": "2024-04-15T14:34:05.755921",
     "exception": false,
     "start_time": "2024-04-15T14:34:05.436339",
     "status": "completed"
    },
    "tags": []
   },
   "outputs": [],
   "source": [
    "# add + sign to phone numbers where there is none and check if the value is a string (isinstance(x, str)) before applying the startswith() method\n",
    "# then convert the value to a string to handle nan values, as nan values are represented as floats in pandas df\n",
    "\n",
    "def add_plus(df, column):\n",
    "    \n",
    "    df[column] = df[column].apply(lambda x: '+' + str(x) if (isinstance(x, str) and not x.startswith('+')) else x)\n",
    "    \n",
    "    \n",
    "add_plus(facebook_filtered, 'phone')\n",
    "add_plus(google_filtered, 'phone')\n",
    "add_plus(company_filtered, 'phone')"
   ]
  },
  {
   "cell_type": "code",
   "execution_count": 29,
   "id": "03ac8dc0",
   "metadata": {
    "execution": {
     "iopub.execute_input": "2024-04-15T14:34:05.821976Z",
     "iopub.status.busy": "2024-04-15T14:34:05.821593Z",
     "iopub.status.idle": "2024-04-15T14:34:05.832912Z",
     "shell.execute_reply": "2024-04-15T14:34:05.831740Z"
    },
    "papermill": {
     "duration": 0.047642,
     "end_time": "2024-04-15T14:34:05.835481",
     "exception": false,
     "start_time": "2024-04-15T14:34:05.787839",
     "status": "completed"
    },
    "tags": []
   },
   "outputs": [
    {
     "data": {
      "text/plain": [
       "13414      +15873334433\n",
       "51150               NaN\n",
       "63899      +14036714727\n",
       "37699      +15148998776\n",
       "58961    +8620000000000\n",
       "60001      +14072790080\n",
       "67119      +74991781685\n",
       "36128      +12084764571\n",
       "8103       +12896274704\n",
       "31670       +6563195865\n",
       "Name: phone, dtype: object"
      ]
     },
     "execution_count": 29,
     "metadata": {},
     "output_type": "execute_result"
    }
   ],
   "source": [
    "company_filtered['phone'].sample(10)"
   ]
  },
  {
   "cell_type": "code",
   "execution_count": 30,
   "id": "d23c28c6",
   "metadata": {
    "execution": {
     "iopub.execute_input": "2024-04-15T14:34:05.900550Z",
     "iopub.status.busy": "2024-04-15T14:34:05.900118Z",
     "iopub.status.idle": "2024-04-15T14:34:05.910141Z",
     "shell.execute_reply": "2024-04-15T14:34:05.909292Z"
    },
    "papermill": {
     "duration": 0.045085,
     "end_time": "2024-04-15T14:34:05.912202",
     "exception": false,
     "start_time": "2024-04-15T14:34:05.867117",
     "status": "completed"
    },
    "tags": []
   },
   "outputs": [
    {
     "data": {
      "text/plain": [
       "14912             NaN\n",
       "21644    +13069563211\n",
       "15647             NaN\n",
       "55909             NaN\n",
       "16899    +16056263011\n",
       "13063             NaN\n",
       "67065    +12045050760\n",
       "31491             NaN\n",
       "48853    +16479228493\n",
       "37695             NaN\n",
       "Name: phone, dtype: object"
      ]
     },
     "execution_count": 30,
     "metadata": {},
     "output_type": "execute_result"
    }
   ],
   "source": [
    "facebook_filtered['phone'].sample(10)"
   ]
  },
  {
   "cell_type": "code",
   "execution_count": 31,
   "id": "6415a57c",
   "metadata": {
    "execution": {
     "iopub.execute_input": "2024-04-15T14:34:05.977686Z",
     "iopub.status.busy": "2024-04-15T14:34:05.976900Z",
     "iopub.status.idle": "2024-04-15T14:34:05.997581Z",
     "shell.execute_reply": "2024-04-15T14:34:05.996289Z"
    },
    "papermill": {
     "duration": 0.055766,
     "end_time": "2024-04-15T14:34:06.000033",
     "exception": false,
     "start_time": "2024-04-15T14:34:05.944267",
     "status": "completed"
    },
    "tags": []
   },
   "outputs": [
    {
     "data": {
      "text/plain": [
       "293555             NaN\n",
       "304602    +19802127020\n",
       "72531     +15146459207\n",
       "259479             NaN\n",
       "77783     +16479930979\n",
       "297990    +15199413242\n",
       "117156             NaN\n",
       "59038     +38514642200\n",
       "345446    +16177270980\n",
       "119552    +13613605581\n",
       "Name: phone, dtype: object"
      ]
     },
     "execution_count": 31,
     "metadata": {},
     "output_type": "execute_result"
    }
   ],
   "source": [
    "google_filtered['phone'].sample(10)"
   ]
  },
  {
   "cell_type": "code",
   "execution_count": 32,
   "id": "2bce4bb6",
   "metadata": {
    "execution": {
     "iopub.execute_input": "2024-04-15T14:34:06.066795Z",
     "iopub.status.busy": "2024-04-15T14:34:06.065463Z",
     "iopub.status.idle": "2024-04-15T14:34:06.947013Z",
     "shell.execute_reply": "2024-04-15T14:34:06.945716Z"
    },
    "papermill": {
     "duration": 0.918463,
     "end_time": "2024-04-15T14:34:06.950594",
     "exception": false,
     "start_time": "2024-04-15T14:34:06.032131",
     "status": "completed"
    },
    "tags": []
   },
   "outputs": [],
   "source": [
    "import re \n",
    "\n",
    "def valid_phone_simple(df, column):\n",
    "    \n",
    "    # regex to check for a leading '+' followed by digits\n",
    "    pattern = r'^\\+\\d+'\n",
    "    \n",
    "    # validation check\n",
    "    df[column] = df[column].apply(lambda x: x if isinstance(x, str) and re.match(pattern, x) else np.nan)\n",
    "    \n",
    "\n",
    "valid_phone_simple(facebook_filtered, 'phone')\n",
    "valid_phone_simple(google_filtered, 'phone')\n",
    "valid_phone_simple(company_filtered, 'phone')"
   ]
  },
  {
   "cell_type": "code",
   "execution_count": 33,
   "id": "642bd6d9",
   "metadata": {
    "execution": {
     "iopub.execute_input": "2024-04-15T14:34:07.025205Z",
     "iopub.status.busy": "2024-04-15T14:34:07.024772Z",
     "iopub.status.idle": "2024-04-15T14:34:07.036102Z",
     "shell.execute_reply": "2024-04-15T14:34:07.034962Z"
    },
    "papermill": {
     "duration": 0.047176,
     "end_time": "2024-04-15T14:34:07.038626",
     "exception": false,
     "start_time": "2024-04-15T14:34:06.991450",
     "status": "completed"
    },
    "tags": []
   },
   "outputs": [
    {
     "data": {
      "text/plain": [
       "6490     +16133540264\n",
       "59046             NaN\n",
       "2955     +14164994111\n",
       "4089     +18556858900\n",
       "58001    +16473477619\n",
       "70465    +17802449930\n",
       "3671     +19057073400\n",
       "54724    +19059653318\n",
       "57892    +16035363900\n",
       "19135    +19058290724\n",
       "Name: phone, dtype: object"
      ]
     },
     "execution_count": 33,
     "metadata": {},
     "output_type": "execute_result"
    }
   ],
   "source": [
    "facebook_filtered['phone'].sample(10)"
   ]
  },
  {
   "cell_type": "markdown",
   "id": "3f350f69",
   "metadata": {
    "papermill": {
     "duration": 0.032604,
     "end_time": "2024-04-15T14:34:07.105071",
     "exception": false,
     "start_time": "2024-04-15T14:34:07.072467",
     "status": "completed"
    },
    "tags": []
   },
   "source": [
    "<a id=\"13\" ></a>\n",
    "## **Fill in the country/country code based on phone number if provided**"
   ]
  },
  {
   "cell_type": "markdown",
   "id": "c9d1c8da",
   "metadata": {
    "papermill": {
     "duration": 0.031687,
     "end_time": "2024-04-15T14:34:07.169119",
     "exception": false,
     "start_time": "2024-04-15T14:34:07.137432",
     "status": "completed"
    },
    "tags": []
   },
   "source": [
    "* parse the phone number in phone column to get the country code; make sure they all start with +\n",
    "* use this country code to look up the country name and country code in the phone_dict\n",
    "* fill in the information in the datasets"
   ]
  },
  {
   "cell_type": "code",
   "execution_count": 34,
   "id": "3adcd21b",
   "metadata": {
    "execution": {
     "iopub.execute_input": "2024-04-15T14:34:07.234991Z",
     "iopub.status.busy": "2024-04-15T14:34:07.234614Z",
     "iopub.status.idle": "2024-04-15T14:34:18.552342Z",
     "shell.execute_reply": "2024-04-15T14:34:18.551050Z"
    },
    "papermill": {
     "duration": 11.354086,
     "end_time": "2024-04-15T14:34:18.554989",
     "exception": false,
     "start_time": "2024-04-15T14:34:07.200903",
     "status": "completed"
    },
    "tags": []
   },
   "outputs": [
    {
     "name": "stdout",
     "output_type": "stream",
     "text": [
      "Number of valid values in country column before mapping using phone prefix:  44865 \n",
      "\n",
      "Number of valid values in country column after mapping using phone prefix:  57181 \n",
      "\n"
     ]
    }
   ],
   "source": [
    "# fill missing values in the country column based on the phone prefix, and overwrite them if they are not correct but match the prefix \n",
    "import phonenumbers \n",
    "\n",
    "def fill_missing_countries(row):\n",
    "    \n",
    "    if pd.isna(row['phone']):\n",
    "        return row\n",
    "    \n",
    "    try:\n",
    "        # parse the ph no\n",
    "        phone_number = phonenumbers.parse(row['phone'])\n",
    "        \n",
    "        # extract country code from the ph no\n",
    "        country_code = phone_number.country_code\n",
    "        \n",
    "        if country_code in phone_dict:\n",
    "            # check in phone dict\n",
    "            country_c, country_name = phone_dict[country_code] # extract the country code and name from the dictionry\n",
    "            \n",
    "            # fill missing country name or overwrite incorrect ones based on the assumptions the phone number is correct\n",
    "            if pd.isna(row['country']) or row['country'] != country_name:\n",
    "                row['country'] = country_name\n",
    "                \n",
    "            # fill missing county code or incorrect ones\n",
    "            if pd.isna(row['country_code']) or row['country_code'] != country_c:\n",
    "                row['country_code'] = country_c\n",
    "                \n",
    "    except Exception as e:\n",
    "        print(f\"Error processing phone number {row['phone']}: {e}\")\n",
    "    \n",
    "    return row\n",
    "\n",
    "print(\"Number of valid values in country column before mapping using phone prefix: \", facebook_filtered['country'].notna().sum(), '\\n')\n",
    "\n",
    "facebook_filtered = facebook_filtered.apply(fill_missing_countries, axis = 1)\n",
    "\n",
    "print(\"Number of valid values in country column after mapping using phone prefix: \", facebook_filtered['country'].notna().sum(), '\\n')\n",
    "\n",
    "#print(facebook_filtered.sample(10))"
   ]
  },
  {
   "cell_type": "markdown",
   "id": "eb87ed4e",
   "metadata": {
    "papermill": {
     "duration": 0.032136,
     "end_time": "2024-04-15T14:34:18.620789",
     "exception": false,
     "start_time": "2024-04-15T14:34:18.588653",
     "status": "completed"
    },
    "tags": []
   },
   "source": [
    "* Number of valid values increased in the country column, which means that the mapping using the phone prefix worked."
   ]
  },
  {
   "cell_type": "code",
   "execution_count": 35,
   "id": "c410ba43",
   "metadata": {
    "execution": {
     "iopub.execute_input": "2024-04-15T14:34:18.688337Z",
     "iopub.status.busy": "2024-04-15T14:34:18.687311Z",
     "iopub.status.idle": "2024-04-15T14:35:26.606144Z",
     "shell.execute_reply": "2024-04-15T14:35:26.604935Z"
    },
    "papermill": {
     "duration": 67.988926,
     "end_time": "2024-04-15T14:35:26.642551",
     "exception": false,
     "start_time": "2024-04-15T14:34:18.653625",
     "status": "completed"
    },
    "tags": []
   },
   "outputs": [
    {
     "name": "stdout",
     "output_type": "stream",
     "text": [
      "Number of valid values in country column before mapping using phone prefix:  302233 \n",
      "\n",
      "Number of valid values in country column after mapping using phone prefix:  336587\n"
     ]
    }
   ],
   "source": [
    "print(\"Number of valid values in country column before mapping using phone prefix: \", google_filtered['country'].notna().sum(), '\\n')\n",
    "\n",
    "google_filtered = google_filtered.apply(fill_missing_countries, axis = 1)\n",
    "\n",
    "print(\"Number of valid values in country column after mapping using phone prefix: \", google_filtered['country'].notna().sum())"
   ]
  },
  {
   "cell_type": "markdown",
   "id": "c7c31210",
   "metadata": {
    "papermill": {
     "duration": 0.032767,
     "end_time": "2024-04-15T14:35:26.707907",
     "exception": false,
     "start_time": "2024-04-15T14:35:26.675140",
     "status": "completed"
    },
    "tags": []
   },
   "source": [
    "* I had errors with processing the country column the same way in the company dataset, therefore, I checked if there are country values missing but I did not assume that the phone prefixes were well matched with their respective countries. However, assuming that the phone number (or at least the phone prefix is correct), I checked if it matches the country value in the phone_dict (that is supposed to have been accurately generated)."
   ]
  },
  {
   "cell_type": "code",
   "execution_count": 36,
   "id": "09ea3e66",
   "metadata": {
    "execution": {
     "iopub.execute_input": "2024-04-15T14:35:26.774995Z",
     "iopub.status.busy": "2024-04-15T14:35:26.774573Z",
     "iopub.status.idle": "2024-04-15T14:35:26.781681Z",
     "shell.execute_reply": "2024-04-15T14:35:26.780544Z"
    },
    "papermill": {
     "duration": 0.043375,
     "end_time": "2024-04-15T14:35:26.783936",
     "exception": false,
     "start_time": "2024-04-15T14:35:26.740561",
     "status": "completed"
    },
    "tags": []
   },
   "outputs": [
    {
     "data": {
      "text/plain": [
       "64827"
      ]
     },
     "execution_count": 36,
     "metadata": {},
     "output_type": "execute_result"
    }
   ],
   "source": [
    "company_filtered.shape[0]"
   ]
  },
  {
   "cell_type": "code",
   "execution_count": 37,
   "id": "d6af515e",
   "metadata": {
    "execution": {
     "iopub.execute_input": "2024-04-15T14:35:26.853927Z",
     "iopub.status.busy": "2024-04-15T14:35:26.852631Z",
     "iopub.status.idle": "2024-04-15T14:35:26.876993Z",
     "shell.execute_reply": "2024-04-15T14:35:26.875527Z"
    },
    "papermill": {
     "duration": 0.060964,
     "end_time": "2024-04-15T14:35:26.879719",
     "exception": false,
     "start_time": "2024-04-15T14:35:26.818755",
     "status": "completed"
    },
    "tags": []
   },
   "outputs": [
    {
     "name": "stdout",
     "output_type": "stream",
     "text": [
      "Missing values in phone column in Company dataset: 3422\n",
      "Missing values in country column in Company dataset: 0\n"
     ]
    }
   ],
   "source": [
    "# check for missing values in the phone column\n",
    "missing_phone = company_filtered['phone'].isna().sum()\n",
    "print(f\"Missing values in phone column in Company dataset: {missing_phone}\")\n",
    "\n",
    "# check for missing values in the country column\n",
    "missing_country = company_filtered['country'].isna().sum()\n",
    "print(f\"Missing values in country column in Company dataset: {missing_country}\")"
   ]
  },
  {
   "cell_type": "code",
   "execution_count": 38,
   "id": "2ca59cf0",
   "metadata": {
    "execution": {
     "iopub.execute_input": "2024-04-15T14:35:26.970726Z",
     "iopub.status.busy": "2024-04-15T14:35:26.970349Z",
     "iopub.status.idle": "2024-04-15T14:35:26.985004Z",
     "shell.execute_reply": "2024-04-15T14:35:26.983751Z"
    },
    "papermill": {
     "duration": 0.064407,
     "end_time": "2024-04-15T14:35:26.987579",
     "exception": false,
     "start_time": "2024-04-15T14:35:26.923172",
     "status": "completed"
    },
    "tags": []
   },
   "outputs": [
    {
     "name": "stdout",
     "output_type": "stream",
     "text": [
      "             country          phone\n",
      "2898   united states   +18089528400\n",
      "17575  united states   +18888705960\n",
      "12345         greece  +302000000000\n",
      "42798         canada   +14166791000\n",
      "12796         taiwan   +88648341014\n",
      "11793         canada   +16478693434\n",
      "51111         canada   +18254120500\n",
      "2068          canada   +13069340573\n",
      "859    united states   +14052822489\n",
      "48042      australia   +61429951234\n"
     ]
    }
   ],
   "source": [
    "# sample of the country and phone columns\n",
    "sample_data = company_filtered[['country', 'phone']].sample(10)\n",
    "print(sample_data)"
   ]
  },
  {
   "cell_type": "code",
   "execution_count": 39,
   "id": "39902de5",
   "metadata": {
    "execution": {
     "iopub.execute_input": "2024-04-15T14:35:27.055521Z",
     "iopub.status.busy": "2024-04-15T14:35:27.055121Z",
     "iopub.status.idle": "2024-04-15T14:35:36.816249Z",
     "shell.execute_reply": "2024-04-15T14:35:36.814973Z"
    },
    "papermill": {
     "duration": 9.798141,
     "end_time": "2024-04-15T14:35:36.818952",
     "exception": false,
     "start_time": "2024-04-15T14:35:27.020811",
     "status": "completed"
    },
    "tags": []
   },
   "outputs": [
    {
     "name": "stdout",
     "output_type": "stream",
     "text": [
      "Total mismatched phone numbers: 2826\n"
     ]
    }
   ],
   "source": [
    "# counter for mismatched phone numbers with respective countries \n",
    "mismatch_count = 0\n",
    "\n",
    "\n",
    "# iterate over each row in the df\n",
    "for index, row in company_filtered.iterrows():\n",
    "    \n",
    "    phone_number = str(row['phone'])  \n",
    "    country_name = row['country']  \n",
    "\n",
    "    found = False\n",
    "    correct_country_code = None    \n",
    "    correct_country_name = None\n",
    "    for prefix, (country_code, name) in phone_dict.items():\n",
    "        # if the country name is in the phone_dict\n",
    "        if name.lower() == country_name.lower():\n",
    "            found = True\n",
    "            phone_code = prefix\n",
    "            correct_country_code = country_code  \n",
    "            correct_country_name = name    \n",
    "            break\n",
    "    \n",
    "    # if a matching country name was found in the dictionary\n",
    "    if found and phone_code is not None:\n",
    "        # check if the phone number starts with the country dialing code\n",
    "        if not phone_number.startswith('+' + str(phone_code)):\n",
    "            mismatch_count += 1\n",
    "#             company_filtered.at[index, 'country'] = correct_country_name\n",
    "#             company_filtered.at[index, 'country_code'] = correct_country_code\n",
    "\n",
    "print(f\"Total mismatched phone numbers: {mismatch_count}\")"
   ]
  },
  {
   "cell_type": "markdown",
   "id": "e78e53c9",
   "metadata": {
    "papermill": {
     "duration": 0.032876,
     "end_time": "2024-04-15T14:35:36.885862",
     "exception": false,
     "start_time": "2024-04-15T14:35:36.852986",
     "status": "completed"
    },
    "tags": []
   },
   "source": [
    "* It seems that the phone numbers and countries in the company dataset should look good."
   ]
  },
  {
   "cell_type": "code",
   "execution_count": 40,
   "id": "921d5b32",
   "metadata": {
    "execution": {
     "iopub.execute_input": "2024-04-15T14:35:36.969762Z",
     "iopub.status.busy": "2024-04-15T14:35:36.969382Z",
     "iopub.status.idle": "2024-04-15T14:35:36.983041Z",
     "shell.execute_reply": "2024-04-15T14:35:36.982204Z"
    },
    "papermill": {
     "duration": 0.05947,
     "end_time": "2024-04-15T14:35:36.985167",
     "exception": false,
     "start_time": "2024-04-15T14:35:36.925697",
     "status": "completed"
    },
    "tags": []
   },
   "outputs": [
    {
     "name": "stdout",
     "output_type": "stream",
     "text": [
      "Country: CA\n"
     ]
    }
   ],
   "source": [
    "# check if the processing error makes sense, encountered in the company dataset\n",
    "phone_number = phonenumbers.parse(\"+13066937766\")\n",
    "\n",
    "# Get the country information\n",
    "country_name = phonenumbers.region_code_for_number(phone_number)\n",
    "print(\"Country:\", country_name)"
   ]
  },
  {
   "cell_type": "markdown",
   "id": "2391968b",
   "metadata": {
    "papermill": {
     "duration": 0.032457,
     "end_time": "2024-04-15T14:35:37.050584",
     "exception": false,
     "start_time": "2024-04-15T14:35:37.018127",
     "status": "completed"
    },
    "tags": []
   },
   "source": [
    "### Fill missing country based on region if provided - another idea, eventually not implemented because phone numbers were used instead as reference"
   ]
  },
  {
   "cell_type": "markdown",
   "id": "6d7c8c9c",
   "metadata": {
    "papermill": {
     "duration": 0.032526,
     "end_time": "2024-04-15T14:35:37.115908",
     "exception": false,
     "start_time": "2024-04-15T14:35:37.083382",
     "status": "completed"
    },
    "tags": []
   },
   "source": [
    "*  reverse look up in the country_subdivisions_dict: search through the values of the dictionary for each country to find a match or partial match with the provided region\n",
    "* use the corresponding key, which is the country code, to fill in the missing country"
   ]
  },
  {
   "cell_type": "code",
   "execution_count": 41,
   "id": "0ad7a0b3",
   "metadata": {
    "execution": {
     "iopub.execute_input": "2024-04-15T14:35:37.183385Z",
     "iopub.status.busy": "2024-04-15T14:35:37.182936Z",
     "iopub.status.idle": "2024-04-15T14:35:37.187270Z",
     "shell.execute_reply": "2024-04-15T14:35:37.186194Z"
    },
    "papermill": {
     "duration": 0.040881,
     "end_time": "2024-04-15T14:35:37.189610",
     "exception": false,
     "start_time": "2024-04-15T14:35:37.148729",
     "status": "completed"
    },
    "tags": []
   },
   "outputs": [],
   "source": [
    "# subdivisions = pycountry.subdivisions.get(country_code = 'us')\n",
    "# for subdivision in subdivisions:\n",
    "#     print(subdivision.name)"
   ]
  },
  {
   "cell_type": "markdown",
   "id": "3220d4f7",
   "metadata": {
    "papermill": {
     "duration": 0.032479,
     "end_time": "2024-04-15T14:35:37.255210",
     "exception": false,
     "start_time": "2024-04-15T14:35:37.222731",
     "status": "completed"
    },
    "tags": []
   },
   "source": [
    "### Dictionary to hold country code to subdivisions mapping\n"
   ]
  },
  {
   "cell_type": "code",
   "execution_count": 42,
   "id": "5351614e",
   "metadata": {
    "execution": {
     "iopub.execute_input": "2024-04-15T14:35:37.323333Z",
     "iopub.status.busy": "2024-04-15T14:35:37.322872Z",
     "iopub.status.idle": "2024-04-15T14:35:37.328535Z",
     "shell.execute_reply": "2024-04-15T14:35:37.327361Z"
    },
    "papermill": {
     "duration": 0.042734,
     "end_time": "2024-04-15T14:35:37.330733",
     "exception": false,
     "start_time": "2024-04-15T14:35:37.287999",
     "status": "completed"
    },
    "tags": []
   },
   "outputs": [],
   "source": [
    "# # dictionary to hold country code to subdivisions mapping\n",
    "\n",
    "# country_subdivisions_dict = {}\n",
    "\n",
    "# # loop through all countries provided by pycountry\n",
    "# for country in pycountry.countries:\n",
    "#     # subdivisions for the current country\n",
    "#     subdivisions = pycountry.subdivisions.get(country_code = country.alpha_2)\n",
    "    \n",
    "#     # check if there are subdivisions defined\n",
    "#     if subdivisions:\n",
    "#         # store the subdivisions in the dictionary, using the country code as the key\n",
    "#         # convert subdivision names to lowercase for consistency\n",
    "#         country_subdivisions_dict[country.alpha_2.lower()] = [sub.name.lower() for sub in subdivisions]\n",
    "\n",
    "# # eg\n",
    "# print(country_subdivisions_dict.get('us'))"
   ]
  },
  {
   "cell_type": "code",
   "execution_count": 43,
   "id": "63e378b1",
   "metadata": {
    "execution": {
     "iopub.execute_input": "2024-04-15T14:35:37.398613Z",
     "iopub.status.busy": "2024-04-15T14:35:37.398234Z",
     "iopub.status.idle": "2024-04-15T14:35:37.403525Z",
     "shell.execute_reply": "2024-04-15T14:35:37.402659Z"
    },
    "papermill": {
     "duration": 0.041826,
     "end_time": "2024-04-15T14:35:37.405881",
     "exception": false,
     "start_time": "2024-04-15T14:35:37.364055",
     "status": "completed"
    },
    "tags": []
   },
   "outputs": [],
   "source": [
    "# def fill_missing_country_based_on_region(row):\n",
    "    \n",
    "#     # go on only if country is missing and region is provided\n",
    "#     if pd.isna(row['country']) and not pd.isna(row['region']):\n",
    "        \n",
    "#         region_provided = row['region'].lower()\n",
    "        \n",
    "#         for country_code, subdivisions in country_subdivisions_dict.items():\n",
    "            \n",
    "#             if region_provided in subdivisions:\n",
    "#                 # if exact match found\n",
    "#                 country = pycountry.countries.get(alpha_2=country_code.upper())\n",
    "#                 if country:\n",
    "#                     row['country'] = country.name.lower()  # the full country name via pycountry\n",
    "#                 break\n",
    "#             else:\n",
    "#                 # check for partial match\n",
    "#                 for subdivision in subdivisions:\n",
    "#                     if region_provided in subdivision:\n",
    "#                         # partial match found\n",
    "#                         country = pycountry.countries.get(alpha_2 = country_code.upper())\n",
    "#                         if country:\n",
    "#                             row['country'] = country.name.lower()  # set the full country name in lowercase\n",
    "#                         break\n",
    "                \n",
    "#     return row\n",
    "\n",
    "# facebook_filtered = facebook_filtered.apply(fill_missing_country_based_on_region, axis = 1)\n",
    "# google_filtered = google_filtered.apply(fill_missing_country_based_on_region, axis = 1)\n",
    "# company_filtered = company_filtered.apply(fill_missing_country_based_on_region, axis = 1)"
   ]
  },
  {
   "cell_type": "markdown",
   "id": "981e60e3",
   "metadata": {
    "papermill": {
     "duration": 0.033241,
     "end_time": "2024-04-15T14:35:37.473072",
     "exception": false,
     "start_time": "2024-04-15T14:35:37.439831",
     "status": "completed"
    },
    "tags": []
   },
   "source": [
    "* Now, if phone is provided, country and country code should be filled in (but country column is prioritary)."
   ]
  },
  {
   "cell_type": "code",
   "execution_count": 44,
   "id": "07a9a451",
   "metadata": {
    "execution": {
     "iopub.execute_input": "2024-04-15T14:35:37.541239Z",
     "iopub.status.busy": "2024-04-15T14:35:37.540838Z",
     "iopub.status.idle": "2024-04-15T14:35:37.707532Z",
     "shell.execute_reply": "2024-04-15T14:35:37.706150Z"
    },
    "papermill": {
     "duration": 0.204072,
     "end_time": "2024-04-15T14:35:37.710077",
     "exception": false,
     "start_time": "2024-04-15T14:35:37.506005",
     "status": "completed"
    },
    "tags": []
   },
   "outputs": [
    {
     "name": "stdout",
     "output_type": "stream",
     "text": [
      "Facebook: \n",
      "Number of not null values in the 'country' column: 57181\n",
      "Number of not null values in the 'country code' column: 57192\n",
      "Number of not null values in the 'phone' column: 44349 \n",
      "\n",
      "Google: \n",
      "Number of not null values in the 'country' column: 336587\n",
      "Number of not null values in the 'country code' column: 329568\n",
      "Number of not null values in the 'phone' column: 314785 \n",
      "\n",
      "Company: \n",
      "Number of not null values in the 'country' column: 64827\n",
      "Number of not null values in the 'phone' column: 61405\n"
     ]
    }
   ],
   "source": [
    "print('Facebook: ')\n",
    "country_count = facebook_filtered['country'].count()\n",
    "print(\"Number of not null values in the 'country' column:\", country_count)\n",
    "\n",
    "country_code_count = facebook_filtered['country_code'].count()\n",
    "print(\"Number of not null values in the 'country code' column:\", country_code_count)\n",
    "\n",
    "phone_count = facebook_filtered['phone'].count()\n",
    "print(\"Number of not null values in the 'phone' column:\", phone_count, '\\n')\n",
    "\n",
    "print('Google: ')\n",
    "country_count = google_filtered['country'].count()\n",
    "print(\"Number of not null values in the 'country' column:\", country_count)\n",
    "\n",
    "country_code_count = google_filtered['country_code'].count()\n",
    "print(\"Number of not null values in the 'country code' column:\", country_code_count)\n",
    "\n",
    "phone_count = google_filtered['phone'].count()\n",
    "print(\"Number of not null values in the 'phone' column:\", phone_count, '\\n')\n",
    "\n",
    "print('Company: ')\n",
    "country_count = company_filtered['country'].count()\n",
    "print(\"Number of not null values in the 'country' column:\", country_count)\n",
    "\n",
    "phone_count = company_filtered['phone'].count()\n",
    "print(\"Number of not null values in the 'phone' column:\", phone_count)"
   ]
  },
  {
   "cell_type": "markdown",
   "id": "6db38b96",
   "metadata": {
    "papermill": {
     "duration": 0.033976,
     "end_time": "2024-04-15T14:35:37.777046",
     "exception": false,
     "start_time": "2024-04-15T14:35:37.743070",
     "status": "completed"
    },
    "tags": []
   },
   "source": [
    "* Finally, the number of non-null phone numbers will represent the maximum number of rows/countries/company names."
   ]
  },
  {
   "cell_type": "markdown",
   "id": "baabccb1",
   "metadata": {
    "papermill": {
     "duration": 0.033159,
     "end_time": "2024-04-15T14:35:37.843507",
     "exception": false,
     "start_time": "2024-04-15T14:35:37.810348",
     "status": "completed"
    },
    "tags": []
   },
   "source": [
    "<a id=\"14\" ></a>\n",
    "## **Check if there are still rows where phone, name, category and country are not bot provided and remove them**"
   ]
  },
  {
   "cell_type": "code",
   "execution_count": 45,
   "id": "e99a77ba",
   "metadata": {
    "execution": {
     "iopub.execute_input": "2024-04-15T14:35:37.912265Z",
     "iopub.status.busy": "2024-04-15T14:35:37.911869Z",
     "iopub.status.idle": "2024-04-15T14:35:38.254174Z",
     "shell.execute_reply": "2024-04-15T14:35:38.252993Z"
    },
    "papermill": {
     "duration": 0.380102,
     "end_time": "2024-04-15T14:35:38.256792",
     "exception": false,
     "start_time": "2024-04-15T14:35:37.876690",
     "status": "completed"
    },
    "tags": []
   },
   "outputs": [
    {
     "name": "stdout",
     "output_type": "stream",
     "text": [
      "DATASETS DIMENSIONS BEFORE: \n",
      "FACEBOOK: : (65303, 9) \n",
      "\n",
      "GOOGLE:  (344036, 9) \n",
      "\n",
      "COMPANY:  (64827, 6) \n",
      "\n",
      "\n",
      "DATASETS DIMENSIONS AFTER: \n",
      "FACEBOOK: : (34278, 9) \n",
      "\n",
      "GOOGLE:  (275279, 9) \n",
      "\n",
      "COMPANY:  (28828, 6) \n",
      "\n",
      "\n"
     ]
    }
   ],
   "source": [
    "print(\"DATASETS DIMENSIONS BEFORE: \")\n",
    "print(\"FACEBOOK: :\", facebook_filtered.shape, '\\n')\n",
    "print(\"GOOGLE: \", google_filtered.shape, '\\n')\n",
    "print(\"COMPANY: \", company_filtered.shape, '\\n'*2)\n",
    "\n",
    "conditions_facebook = (\n",
    "    ((facebook_filtered['country'].notna()) & (facebook_filtered['phone'].notna()) & (facebook_filtered['name'].notna()) & (facebook_filtered['category'].notna()))\n",
    ")\n",
    "\n",
    "facebook_filtered = facebook_filtered[conditions_facebook]\n",
    "\n",
    "\n",
    "conditions_google = (\n",
    "    ((google_filtered['country'].notna()) & (google_filtered['phone'].notna()) & (google_filtered['name'].notna()) & (google_filtered['category'].notna()))\n",
    ")\n",
    "\n",
    "google_filtered = google_filtered[conditions_google]\n",
    "\n",
    "\n",
    "conditions_company = (\n",
    "    ((company_filtered['country'].notna()) & (company_filtered['phone'].notna()) & (company_filtered['name'].notna()) & (company_filtered['category'].notna()))\n",
    ")\n",
    "\n",
    "company_filtered = company_filtered[conditions_company]\n",
    "\n",
    "print(\"DATASETS DIMENSIONS AFTER: \")\n",
    "print(\"FACEBOOK: :\", facebook_filtered.shape, '\\n')\n",
    "print(\"GOOGLE: \", google_filtered.shape, '\\n')\n",
    "print(\"COMPANY: \", company_filtered.shape, '\\n'*2)"
   ]
  },
  {
   "cell_type": "code",
   "execution_count": 46,
   "id": "ffdf79b7",
   "metadata": {
    "execution": {
     "iopub.execute_input": "2024-04-15T14:35:38.326027Z",
     "iopub.status.busy": "2024-04-15T14:35:38.325002Z",
     "iopub.status.idle": "2024-04-15T14:35:38.337641Z",
     "shell.execute_reply": "2024-04-15T14:35:38.335990Z"
    },
    "papermill": {
     "duration": 0.049912,
     "end_time": "2024-04-15T14:35:38.340155",
     "exception": false,
     "start_time": "2024-04-15T14:35:38.290243",
     "status": "completed"
    },
    "tags": []
   },
   "outputs": [
    {
     "data": {
      "text/plain": [
       "array([nan, 'british columbia', 'alberta', 'ontario', 'manitoba',\n",
       "       'florida', 'quebec', 'provincie utrecht', 'pennsylvania', 'ohio',\n",
       "       'new mexico', 'saskatchewan', 'nouvelle-aquitaine', 'california',\n",
       "       'new york', 'iowa', 'tennessee', 'new jersey', 'texas',\n",
       "       'rabat-sale-kenitra', 'colorado', 'massachusetts', 'virginia',\n",
       "       'seoul', 'minnesota', 'illinois', 'rangpur division', 'washington',\n",
       "       'new south wales', 'indiana', 'irkutsk oblast', 'north carolina',\n",
       "       'queensland', 'utah', 'georgia', 'north dakota', 'dubai',\n",
       "       'new brunswick', 'michigan', 'oklahoma', 'kansas', 'missouri',\n",
       "       'nova scotia', 'madeira', 'moscow', 'bavaria', 'central macedonia',\n",
       "       'connecticut', 'louisiana', 'england', 'alaska', 'rio de janeiro',\n",
       "       'west virginia', 'nebraska', 'istanbul', 'ile-de-france',\n",
       "       'rhode island', 'auckland', 'arkansas', 'wisconsin', 'maharashtra',\n",
       "       'alabama', 'flanders', 'kuala lumpur', 'north rhine-westphalia',\n",
       "       'montana', 'silesia', 'maryland', 'south carolina', 'veneto',\n",
       "       'delaware', 'gyeongsangbuk-do', 'gauteng', 'konya', 'nevada',\n",
       "       'selangor', 'sao paulo', 'connaught', 'kentucky', 'maine',\n",
       "       'rheinland-pfalz', 'calabarzon', 'punjab', 'brussels capital',\n",
       "       'taipei city', 'south australia', 'mississippi', 'south dakota',\n",
       "       'arizona', 'attica', 'bayern', 'prince edward island',\n",
       "       'brandenburg', 'bucuresti', 'abu dhabi', 'new hampshire',\n",
       "       'baden-wurttemberg', 'oregon', 'centre-val de loire', 'yukon',\n",
       "       'bratislava', 'rize', 'central luzon', 'south holland',\n",
       "       \"yaroslavskaya oblast'\", 'auvergne-rhone-alpes', 'perak',\n",
       "       'friesland', 'western australia', 'provincie overijssel',\n",
       "       'wyoming', 'cagayan valley', 'assam', 'gyeonggido', 'hanoi',\n",
       "       'moscow oblast', 'provincie flevoland', 'idaho', 'north holland',\n",
       "       'warmia-masuria', 'vermont', 'tokyo', 'occitanie', 'wales',\n",
       "       'ankara', 'pomerania', 'provincia de panama', 'dhaka division',\n",
       "       'victoria', 'baleares', 'north brabant', 'mpumalanga', 'karnataka',\n",
       "       'district of columbia', \"penzenskaya oblast'\", 'ho chi minh',\n",
       "       'telangana', 'newfoundland and labrador', 'stockholm', 'berlin',\n",
       "       'rangoon', 'tamil nadu', 'gunma', 'jammu and kashmir',\n",
       "       'taichung city', \"kaliningradskaya oblast'\", 'central district',\n",
       "       'eastern', 'bruxelles-capitale', 'haryana', 'kwazulu-natal',\n",
       "       'uttarakhand', 'delhi', 'western cape', 'bursa',\n",
       "       'rio grande do sul', 'eastern cape', 'baladiyat ad dawhah',\n",
       "       'antalya', 'northwest territories', 'distrito federal',\n",
       "       'mexico city', 'gyeongsangnam-do', 'tekirdag', 'vlaanderen',\n",
       "       'santa fe', 'grand est', 'hawaii', 'kujawsko-pomorskie',\n",
       "       'bourgogne-franche-comte', \"chernivtsi oblast'\",\n",
       "       'republika srpska', 'jakarta', 'scotland', 'canterbury',\n",
       "       'metro manila', 'gyeonggi-do', 'east macedonia and thrace',\n",
       "       'yucatan', 'okinawa', 'lower silesia', 'valencia', 'bali',\n",
       "       'west bengal', 'mazovia', 'rostov', 'uttar pradesh', 'sharjah',\n",
       "       'leinster', 'kutahya', 'santiago metropolitan', 'izmir',\n",
       "       'nordrhein-westfalen', 'johor', 'lima', 'sejong-si', 'wallonie',\n",
       "       'khanty-mansia', 'andalusia', 'manisa', 'federal district',\n",
       "       'northern ireland', \"kirovskaia oblast'\", 'caldas',\n",
       "       'makkah province', 'western province', 'carinthia', 'kocaeli',\n",
       "       'kelantan', 'lodz voivodeship', 'sarawak', 'niedersachsen',\n",
       "       'daegu', 'groningen', 'hessen', \"moskovskaia oblast'\",\n",
       "       'australian capital territory', 'lombardy',\n",
       "       'provincia de alajuela', 'kedah', 'east java', 'tel aviv',\n",
       "       'orange free state', 'provincia del guayas', 'skane',\n",
       "       'saint thomas island', 'hesse', 'samsun', 'ekiti state', 'riga',\n",
       "       'madrid', 'niigata', 'murcia', 'north west',\n",
       "       'departamento de cortes', 'saint michael', 'khabarovsk',\n",
       "       'lower austria', 'aragon', 'koprivnicko-krizevacka zupanija',\n",
       "       'santa catarina', 'northern territory', 'lower saxony', 'jiangsu',\n",
       "       'central visayas', 'iasi', 'negeri sembilan',\n",
       "       'provincia de chiriqui', 'gaziantep', 'primorskiy (maritime) kray',\n",
       "       'subcarpathia', 'chungcheongnam-do', 'kowloon city',\n",
       "       \"stavropol' kray\", 'nacional', 'departamento de managua',\n",
       "       'west papua', 'provincie gelderland', 'thessaly', 'perm krai',\n",
       "       'sha tin', 'wallonia', 'zonguldak', 'nunavut', 'rio negro',\n",
       "       'asuncion', 'west java', 'saarland', 'ulyanovsk oblast', 'taoyuan',\n",
       "       'provincia duarte', 'putrajaya', 'northern cape',\n",
       "       \"voronezhskaya oblast'\", 'jeollabuk-do',\n",
       "       'departamento de francisco morazan', 'mie', 'kerala',\n",
       "       'west sumatra', 'changhua', 'kemerovo oblast',\n",
       "       'tatarstan republic', 'samara oblast', 'bisho', 'mersin',\n",
       "       'krasnodarskiy kray', 'greater poland', 'zeeland', 'maritime',\n",
       "       'ar riyad', 'salzburg', 'upper austria', 'cataluna', 'gisborne',\n",
       "       'arges', 'banten', 'riau', 'provincie drenthe',\n",
       "       'san antonio village', 'departamento de cochabamba', 'tasmania',\n",
       "       'mecklenburg-vorpommern', 'buskerud', 'canary islands',\n",
       "       'madhya pradesh', \"provence-alpes-cote d'azur\", 'swietokrzyskie',\n",
       "       'haiphong', 'umtata', 'vestland', 'bayburt', 'ordu', 'al asimah',\n",
       "       'region hovedstaden', 'fukushima-ken', 'tianjin', 'akita', 'hyogo',\n",
       "       'buenos aires f.d.'], dtype=object)"
      ]
     },
     "execution_count": 46,
     "metadata": {},
     "output_type": "execute_result"
    }
   ],
   "source": [
    "facebook_filtered['region'].unique()"
   ]
  },
  {
   "cell_type": "code",
   "execution_count": 47,
   "id": "0fd145e9",
   "metadata": {
    "execution": {
     "iopub.execute_input": "2024-04-15T14:35:38.410465Z",
     "iopub.status.busy": "2024-04-15T14:35:38.409368Z",
     "iopub.status.idle": "2024-04-15T14:35:39.159959Z",
     "shell.execute_reply": "2024-04-15T14:35:39.158843Z"
    },
    "papermill": {
     "duration": 0.788489,
     "end_time": "2024-04-15T14:35:39.162411",
     "exception": false,
     "start_time": "2024-04-15T14:35:38.373922",
     "status": "completed"
    },
    "tags": []
   },
   "outputs": [
    {
     "name": "stdout",
     "output_type": "stream",
     "text": [
      "Missing data in the facebook dataframe: \n",
      "Missing data in  dataframe: \n",
      "               Total values missing  Percent of missing data\n",
      "zip_code                     14764                43.071358\n",
      "region                        9826                28.665616\n",
      "city                          9824                28.659782\n",
      "address                       5070                14.790828\n",
      "name                             0                 0.000000\n",
      "category                         0                 0.000000\n",
      "country                          0                 0.000000\n",
      "country_code                     0                 0.000000\n",
      "phone                            0                 0.000000 \n",
      "\n",
      "None \n",
      "\n",
      "Missing data in the google dataframe: \n",
      "Missing data in  dataframe: \n",
      "               Total values missing  Percent of missing data\n",
      "zip_code                     58831                21.371409\n",
      "region                       29485                10.710951\n",
      "city                         29385                10.674625\n",
      "address                      16911                 6.143222\n",
      "name                             0                 0.000000\n",
      "category                         0                 0.000000\n",
      "country                          0                 0.000000\n",
      "country_code                     0                 0.000000\n",
      "phone                            0                 0.000000 \n",
      "\n",
      "None \n",
      "\n",
      "Missing data in the company dataframe: \n",
      "Missing data in  dataframe: \n",
      "           Total values missing  Percent of missing data\n",
      "region                     885                 3.069932\n",
      "city                       875                 3.035244\n",
      "name                         0                 0.000000\n",
      "category                     0                 0.000000\n",
      "country                      0                 0.000000\n",
      "phone                        0                 0.000000 \n",
      "\n",
      "None\n"
     ]
    }
   ],
   "source": [
    "print(\"Missing data in the facebook dataframe: \")\n",
    "print(missing_data(facebook_filtered, ''), '\\n')\n",
    "\n",
    "print(\"Missing data in the google dataframe: \")\n",
    "print(missing_data(google_filtered, ''), '\\n')\n",
    "\n",
    "print(\"Missing data in the company dataframe: \")\n",
    "print(missing_data(company_filtered, ''))"
   ]
  },
  {
   "cell_type": "markdown",
   "id": "e9e8ba91",
   "metadata": {
    "papermill": {
     "duration": 0.034198,
     "end_time": "2024-04-15T14:35:39.230358",
     "exception": false,
     "start_time": "2024-04-15T14:35:39.196160",
     "status": "completed"
    },
    "tags": []
   },
   "source": [
    "* Missing values look as expected. There are no missings in the name, category, country and phone columns. \n",
    "* Further, a dictionary containing phone number areas asssociated with region and country could be used to fill in the region; or a request to an API would be more viable to fill in the city and region, using the zip_code and country or the address."
   ]
  },
  {
   "cell_type": "code",
   "execution_count": 48,
   "id": "1fd31d9e",
   "metadata": {
    "execution": {
     "iopub.execute_input": "2024-04-15T14:35:39.300740Z",
     "iopub.status.busy": "2024-04-15T14:35:39.299759Z",
     "iopub.status.idle": "2024-04-15T14:35:39.328890Z",
     "shell.execute_reply": "2024-04-15T14:35:39.327667Z"
    },
    "papermill": {
     "duration": 0.066702,
     "end_time": "2024-04-15T14:35:39.331214",
     "exception": false,
     "start_time": "2024-04-15T14:35:39.264512",
     "status": "completed"
    },
    "tags": []
   },
   "outputs": [
    {
     "name": "stdout",
     "output_type": "stream",
     "text": [
      "Number of values where the phone number starts with '1' and the region is missing: 0\n"
     ]
    }
   ],
   "source": [
    "# how many phone numbers start with 1 where region is missing\n",
    "filtered_df = facebook_filtered[(facebook_filtered['phone'].str.startswith('1')) & (facebook_filtered['region'].isnull())]\n",
    "\n",
    "count = len(filtered_df)\n",
    "\n",
    "print(\"Number of values where the phone number starts with '1' and the region is missing:\", count)"
   ]
  },
  {
   "cell_type": "markdown",
   "id": "779d72d9",
   "metadata": {
    "papermill": {
     "duration": 0.033297,
     "end_time": "2024-04-15T14:35:39.398411",
     "exception": false,
     "start_time": "2024-04-15T14:35:39.365114",
     "status": "completed"
    },
    "tags": []
   },
   "source": [
    "* US and Canada have area codes in the phone numbers that can be easily mapped, but apparently there are no regions missing on the rows where the phone numbers starts with +1, at least in facebook_filtered."
   ]
  },
  {
   "cell_type": "markdown",
   "id": "11d4c8c6",
   "metadata": {
    "papermill": {
     "duration": 0.033849,
     "end_time": "2024-04-15T14:35:39.466171",
     "exception": false,
     "start_time": "2024-04-15T14:35:39.432322",
     "status": "completed"
    },
    "tags": []
   },
   "source": [
    "<a id=\"15\" ></a>\n",
    "## **Merge the datasets**"
   ]
  },
  {
   "cell_type": "markdown",
   "id": "e49ec5c3",
   "metadata": {
    "papermill": {
     "duration": 0.03352,
     "end_time": "2024-04-15T14:35:39.533365",
     "exception": false,
     "start_time": "2024-04-15T14:35:39.499845",
     "status": "completed"
    },
    "tags": []
   },
   "source": [
    "*  Since there are around 10 000 cities in the world, I will not pay a lot of attention on the city (since the country is more relevant in terms of the location); if there are conflicts, I will take the data from one of the datasets, if it is available; I will do the same regarding the address and the phone. "
   ]
  },
  {
   "cell_type": "markdown",
   "id": "ed60487b",
   "metadata": {
    "papermill": {
     "duration": 0.033515,
     "end_time": "2024-04-15T14:35:39.600711",
     "exception": false,
     "start_time": "2024-04-15T14:35:39.567196",
     "status": "completed"
    },
    "tags": []
   },
   "source": [
    "* If there is non-nan data in the datasets, I will favour the datasets information in this order: Google, Facebook, Company. After each join, missing values will be filled in with non-null values from subsequent datasets, prioritized according to the given order (Google > Facebook > Company)."
   ]
  },
  {
   "cell_type": "code",
   "execution_count": 49,
   "id": "975a8cf5",
   "metadata": {
    "execution": {
     "iopub.execute_input": "2024-04-15T14:35:39.673518Z",
     "iopub.status.busy": "2024-04-15T14:35:39.672399Z",
     "iopub.status.idle": "2024-04-15T14:36:56.033732Z",
     "shell.execute_reply": "2024-04-15T14:36:56.032596Z"
    },
    "papermill": {
     "duration": 76.400811,
     "end_time": "2024-04-15T14:36:56.036213",
     "exception": false,
     "start_time": "2024-04-15T14:35:39.635402",
     "status": "completed"
    },
    "tags": []
   },
   "outputs": [],
   "source": [
    "# merge datasets sequentially\n",
    "# suffixes=('_fb', '_google') makes it clear which df each column originated from\n",
    "# how='outer' performs a full outer join; it combines rows from both df, keeping all rows from both and filling in missing values with nan where there is no match\n",
    "companies_joined = facebook_filtered.merge(google_filtered, on = ['name', 'category', 'country', 'region', 'city', 'address', 'phone'], how = 'outer', suffixes = ('_fb', '_gg'))\n",
    "companies_joined = companies_joined.merge(company_filtered, on = ['name', 'category', 'region', 'city', 'country', 'phone'], how = 'outer', suffixes = ('' , '_company'))\n",
    "\n",
    "# function to prioritize non-null values for each row of the df\n",
    "def favour_values(row):\n",
    "    \n",
    "    for column in companies_joined.columns:\n",
    "        \n",
    "        # original column name without suffix, since the column names potentially have suffixes like _fb, _gg, and _company\n",
    "        # to distinguish where the data originated from after merging\n",
    "        # splitting by _ and selecting the first element [0] extracts the base part of the column name\n",
    "        # removing the suffix and getting the original column name\n",
    "        main_column = column.split('_')[0]\n",
    "        \n",
    "        # check if there's a google version of the column and it's not nan, then prioritize google data\n",
    "        google_column = f\"{main_column}_gg\"\n",
    "        \n",
    "        if google_column in row.index and pd.notna(row[google_column]):\n",
    "            row[main_column] = row[google_column]\n",
    "            \n",
    "        # else, check facebook data\n",
    "        elif f\"{main_column}_fb\" in row.index and pd.notna(row[f\"{main_column}_fb\"]):\n",
    "            row[main_column] = row[f\"{main_column}_fb\"]\n",
    "            \n",
    "        # lastly, check company data, which is already in the original column due to the merge suffix\n",
    "        elif f\"{main_column}_company\" in row.index and pd.notna(row[f\"{main_column}_company\"]):\n",
    "            row[main_column] = row[f\"{main_column}_company\"]\n",
    "            \n",
    "    return row\n",
    "\n",
    "\n",
    "companies_joined = companies_joined.apply(favour_values, axis = 1)\n",
    "\n",
    "\n",
    "# drop columns with suffixes after data prioritization\n",
    "columns_to_drop = [col for col in companies_joined.columns if '_fb' in col or '_gg' in col or '_company' in col]\n",
    "companies_joined.drop(columns = columns_to_drop, inplace = True)\n",
    "\n",
    "# keep only the first occurrence of duplicates by name:\n",
    "# - calculate the number of non-nan values for each row, except the name column itself\n",
    "# - sort the df by that score in descending order\n",
    "# - drop duplicates based on name and keep the first row with the highest number of valid entries\n",
    "\n",
    "companies_joined['non_na_count'] = companies_joined.apply(lambda row: row.count() - pd.isna(row['name']), axis = 1)\n",
    "\n",
    "companies_joined = companies_joined.sort_values(by = ['name', 'non_na_count'], ascending = [True, False])\n",
    "\n",
    "companies_joined.drop_duplicates(subset = ['name'], keep='first', inplace = True)\n",
    "\n",
    "# reset index\n",
    "companies_joined.reset_index(drop = True, inplace = True)\n",
    "\n",
    "# drop the non_na_count column \n",
    "companies_joined.drop(columns=['non_na_count'], inplace = True)"
   ]
  },
  {
   "cell_type": "code",
   "execution_count": 50,
   "id": "62367072",
   "metadata": {
    "execution": {
     "iopub.execute_input": "2024-04-15T14:36:56.107987Z",
     "iopub.status.busy": "2024-04-15T14:36:56.107594Z",
     "iopub.status.idle": "2024-04-15T14:36:56.119723Z",
     "shell.execute_reply": "2024-04-15T14:36:56.118579Z"
    },
    "papermill": {
     "duration": 0.051932,
     "end_time": "2024-04-15T14:36:56.122505",
     "exception": false,
     "start_time": "2024-04-15T14:36:56.070573",
     "status": "completed"
    },
    "tags": []
   },
   "outputs": [
    {
     "data": {
      "text/plain": [
       "<bound method NDFrame.head of                                                      name  \\\n",
       "0                                          !MPACT Theatre   \n",
       "1                                      # 9 Auto Sales Ltd   \n",
       "2                                    #1 Entertainment LLC   \n",
       "3       #1 IT Support & Services Company in Winnipeg |...   \n",
       "4                                                #1 Nails   \n",
       "...                                                   ...   \n",
       "315658                                   🥇 Strategic Mind   \n",
       "315659                          🥇Béton Surface Lanaudière   \n",
       "315660  🥇MyHomeware-Specialist of Tapware, Bathroom Va...   \n",
       "315661  🦋 Simplicité Santé - Soins infirmiers | prélèv...   \n",
       "315662  🧵 Atelier de Couture Karine Mascouche -Sur Ren...   \n",
       "\n",
       "                                      category               country  \\\n",
       "0               Theatres & Theatrical Services                jersey   \n",
       "1           Automobile Dealers & Manufacturers  virgin islands, u.s.   \n",
       "2                                 Entertainers  virgin islands, u.s.   \n",
       "3                                Cybersecurity                canada   \n",
       "4                                Beauty Salons  virgin islands, u.s.   \n",
       "...                                        ...                   ...   \n",
       "315658                Web Development Agencies  virgin islands, u.s.   \n",
       "315659                    Flooring Contractors  virgin islands, u.s.   \n",
       "315660  Home Builders & Renovation Contractors      christmas island   \n",
       "315661     Employment Agencies & HR Consulting  virgin islands, u.s.   \n",
       "315662                 Fabric-Based Home Goods  virgin islands, u.s.   \n",
       "\n",
       "                 region         city          phone  \\\n",
       "0               england   willenhall  +447891688502   \n",
       "1               ontario     brampton   +12898065355   \n",
       "2              nebraska        omaha   +14022250915   \n",
       "3              manitoba     winnipeg   +12042894084   \n",
       "4           mississippi      jackson   +17692304044   \n",
       "...                 ...          ...            ...   \n",
       "315658          ontario   north york   +16472439321   \n",
       "315659           quebec   terrebonne   +18556523866   \n",
       "315660  new south wales  north rocks   +61288501111   \n",
       "315661              NaN          NaN   +14382570931   \n",
       "315662           quebec    mascouche   +15148929821   \n",
       "\n",
       "                                                  address  \n",
       "0       Drama Theatre, Willenhall E-ACT Academy, Furze...  \n",
       "1            690 Queen St W, Brampton, ON L6X 3E1, Canada  \n",
       "2                         3333 Parker St, Omaha, NE 68111  \n",
       "3                                                     NaN  \n",
       "4       5050 Interstate 55 North Frontage Rd, Jackson,...  \n",
       "...                                                   ...  \n",
       "315658  North York, ON, Canada · In Concorde Corporate...  \n",
       "315659                         Terrebonne, Quebec, Canada  \n",
       "315660  Unit E,Gate B, 21 Loyalty Rd, North Rocks NSW ...  \n",
       "315661                                                NaN  \n",
       "315662  1330 Chemin des Anglais, Mascouche, Quebec J7L...  \n",
       "\n",
       "[315663 rows x 7 columns]>"
      ]
     },
     "execution_count": 50,
     "metadata": {},
     "output_type": "execute_result"
    }
   ],
   "source": [
    "companies_joined.head"
   ]
  },
  {
   "cell_type": "code",
   "execution_count": 51,
   "id": "0d1edf17",
   "metadata": {
    "execution": {
     "iopub.execute_input": "2024-04-15T14:36:56.194500Z",
     "iopub.status.busy": "2024-04-15T14:36:56.193367Z",
     "iopub.status.idle": "2024-04-15T14:36:56.199183Z",
     "shell.execute_reply": "2024-04-15T14:36:56.197908Z"
    },
    "papermill": {
     "duration": 0.044189,
     "end_time": "2024-04-15T14:36:56.201453",
     "exception": false,
     "start_time": "2024-04-15T14:36:56.157264",
     "status": "completed"
    },
    "tags": []
   },
   "outputs": [
    {
     "name": "stdout",
     "output_type": "stream",
     "text": [
      "(315663, 7)\n"
     ]
    }
   ],
   "source": [
    "print(companies_joined.shape)"
   ]
  },
  {
   "cell_type": "code",
   "execution_count": 52,
   "id": "1cb2c61c",
   "metadata": {
    "execution": {
     "iopub.execute_input": "2024-04-15T14:36:56.273344Z",
     "iopub.status.busy": "2024-04-15T14:36:56.272901Z",
     "iopub.status.idle": "2024-04-15T14:36:56.987299Z",
     "shell.execute_reply": "2024-04-15T14:36:56.985241Z"
    },
    "papermill": {
     "duration": 0.75361,
     "end_time": "2024-04-15T14:36:56.989869",
     "exception": false,
     "start_time": "2024-04-15T14:36:56.236259",
     "status": "completed"
    },
    "tags": []
   },
   "outputs": [
    {
     "name": "stdout",
     "output_type": "stream",
     "text": [
      "Missing data in the final dataset: \n",
      "Missing data in  dataframe: \n",
      "           Total values missing  Percent of missing data\n",
      "address                  41134                13.030986\n",
      "region                   34708                10.995270\n",
      "city                     34598                10.960423\n",
      "name                         0                 0.000000\n",
      "category                     0                 0.000000\n",
      "country                      0                 0.000000\n",
      "phone                        0                 0.000000 \n",
      "\n",
      "None \n",
      "\n"
     ]
    }
   ],
   "source": [
    "print(\"Missing data in the final dataset: \")\n",
    "print(missing_data(companies_joined, ''), '\\n')"
   ]
  },
  {
   "cell_type": "code",
   "execution_count": 53,
   "id": "5829a3dd",
   "metadata": {
    "execution": {
     "iopub.execute_input": "2024-04-15T14:36:57.064548Z",
     "iopub.status.busy": "2024-04-15T14:36:57.064120Z",
     "iopub.status.idle": "2024-04-15T14:36:57.563361Z",
     "shell.execute_reply": "2024-04-15T14:36:57.562271Z"
    },
    "papermill": {
     "duration": 0.539921,
     "end_time": "2024-04-15T14:36:57.565916",
     "exception": false,
     "start_time": "2024-04-15T14:36:57.025995",
     "status": "completed"
    },
    "tags": []
   },
   "outputs": [
    {
     "name": "stdout",
     "output_type": "stream",
     "text": [
      "Number of unique values in the 'name' column: 315663\n",
      "Number of unique values in the 'category' column: 6594\n",
      "Number of unique values in the 'name' column: 257182\n"
     ]
    }
   ],
   "source": [
    "unique_names_count = companies_joined['name'].nunique()\n",
    "print(\"Number of unique values in the 'name' column:\", unique_names_count)\n",
    "\n",
    "unique_categories_count = companies_joined['category'].nunique()\n",
    "print(\"Number of unique values in the 'category' column:\", unique_categories_count)\n",
    "\n",
    "unique_phones_count = companies_joined['phone'].nunique()\n",
    "print(\"Number of unique values in the 'name' column:\", unique_phones_count)"
   ]
  },
  {
   "cell_type": "markdown",
   "id": "ce659442",
   "metadata": {
    "papermill": {
     "duration": 0.034579,
     "end_time": "2024-04-15T14:36:57.635868",
     "exception": false,
     "start_time": "2024-04-15T14:36:57.601289",
     "status": "completed"
    },
    "tags": []
   },
   "source": [
    "* The number of unique values in the name column matches the number of rows in the final dataset, which means that now, there will only be unique data for each company in the companies_joined.csv file."
   ]
  },
  {
   "cell_type": "code",
   "execution_count": 54,
   "id": "00e64354",
   "metadata": {
    "execution": {
     "iopub.execute_input": "2024-04-15T14:36:57.707738Z",
     "iopub.status.busy": "2024-04-15T14:36:57.707358Z",
     "iopub.status.idle": "2024-04-15T14:37:00.945853Z",
     "shell.execute_reply": "2024-04-15T14:37:00.944704Z"
    },
    "papermill": {
     "duration": 3.27737,
     "end_time": "2024-04-15T14:37:00.948317",
     "exception": false,
     "start_time": "2024-04-15T14:36:57.670947",
     "status": "completed"
    },
    "tags": []
   },
   "outputs": [],
   "source": [
    "companies_joined.to_csv('companies_joined.csv', index = False)"
   ]
  }
 ],
 "metadata": {
  "kaggle": {
   "accelerator": "none",
   "dataSources": [
    {
     "datasetId": 4711612,
     "sourceId": 8001006,
     "sourceType": "datasetVersion"
    }
   ],
   "dockerImageVersionId": 30673,
   "isGpuEnabled": false,
   "isInternetEnabled": true,
   "language": "python",
   "sourceType": "notebook"
  },
  "kernelspec": {
   "display_name": "Python 3",
   "language": "python",
   "name": "python3"
  },
  "language_info": {
   "codemirror_mode": {
    "name": "ipython",
    "version": 3
   },
   "file_extension": ".py",
   "mimetype": "text/x-python",
   "name": "python",
   "nbconvert_exporter": "python",
   "pygments_lexer": "ipython3",
   "version": "3.10.13"
  },
  "papermill": {
   "default_parameters": {},
   "duration": 242.879426,
   "end_time": "2024-04-15T14:37:01.906822",
   "environment_variables": {},
   "exception": null,
   "input_path": "__notebook__.ipynb",
   "output_path": "__notebook__.ipynb",
   "parameters": {},
   "start_time": "2024-04-15T14:32:59.027396",
   "version": "2.5.0"
  }
 },
 "nbformat": 4,
 "nbformat_minor": 5
}
